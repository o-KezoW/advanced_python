{
  "nbformat": 4,
  "nbformat_minor": 0,
  "metadata": {
    "colab": {
      "name": "RXoperator.ipynb",
      "provenance": []
    },
    "kernelspec": {
      "name": "python3",
      "display_name": "Python 3"
    }
  },
  "cells": [
    {
      "cell_type": "code",
      "metadata": {
        "id": "gNIVyL9ABaOJ",
        "outputId": "75a6cf42-258e-468a-bd48-bcfc1245ee79",
        "colab": {
          "base_uri": "https://localhost:8080/"
        }
      },
      "source": [
        "!pip install rx"
      ],
      "execution_count": null,
      "outputs": [
        {
          "output_type": "stream",
          "text": [
            "Collecting rx\n",
            "\u001b[?25l  Downloading https://files.pythonhosted.org/packages/90/6c/5f1839d9ae2a8c85d119c51acaff1f1382f68691cb0f1cb3d0c9fdd32a93/Rx-3.1.1-py3-none-any.whl (197kB)\n",
            "\r\u001b[K     |█▋                              | 10kB 15.8MB/s eta 0:00:01\r\u001b[K     |███▎                            | 20kB 15.3MB/s eta 0:00:01\r\u001b[K     |█████                           | 30kB 10.6MB/s eta 0:00:01\r\u001b[K     |██████▋                         | 40kB 8.4MB/s eta 0:00:01\r\u001b[K     |████████▎                       | 51kB 5.4MB/s eta 0:00:01\r\u001b[K     |██████████                      | 61kB 5.7MB/s eta 0:00:01\r\u001b[K     |███████████▋                    | 71kB 5.6MB/s eta 0:00:01\r\u001b[K     |█████████████▎                  | 81kB 6.1MB/s eta 0:00:01\r\u001b[K     |███████████████                 | 92kB 6.5MB/s eta 0:00:01\r\u001b[K     |████████████████▋               | 102kB 6.8MB/s eta 0:00:01\r\u001b[K     |██████████████████▎             | 112kB 6.8MB/s eta 0:00:01\r\u001b[K     |████████████████████            | 122kB 6.8MB/s eta 0:00:01\r\u001b[K     |█████████████████████▋          | 133kB 6.8MB/s eta 0:00:01\r\u001b[K     |███████████████████████▎        | 143kB 6.8MB/s eta 0:00:01\r\u001b[K     |█████████████████████████       | 153kB 6.8MB/s eta 0:00:01\r\u001b[K     |██████████████████████████▋     | 163kB 6.8MB/s eta 0:00:01\r\u001b[K     |████████████████████████████▎   | 174kB 6.8MB/s eta 0:00:01\r\u001b[K     |██████████████████████████████  | 184kB 6.8MB/s eta 0:00:01\r\u001b[K     |███████████████████████████████▋| 194kB 6.8MB/s eta 0:00:01\r\u001b[K     |████████████████████████████████| 204kB 6.8MB/s \n",
            "\u001b[?25hInstalling collected packages: rx\n",
            "Successfully installed rx-3.1.1\n"
          ],
          "name": "stdout"
        }
      ]
    },
    {
      "cell_type": "code",
      "metadata": {
        "id": "_F4de1SkGn8Y"
      },
      "source": [
        "import rx\n",
        "import time\n",
        "import threading\n",
        "import random"
      ],
      "execution_count": null,
      "outputs": []
    },
    {
      "cell_type": "code",
      "metadata": {
        "id": "FWOBngLmG_BY",
        "outputId": "14902698-a94e-430a-d474-56fbb39ae695",
        "colab": {
          "base_uri": "https://localhost:8080/"
        }
      },
      "source": [
        "# Function that gets the observers\n",
        "def push_strings(observer, scheduler):\n",
        "    array = [\"ALPHA\", \"BETA\", \"GAMMA\", \"DELTA\", \"EPSILON\"]\n",
        "    for item in array:\n",
        "        observer.on_next(item)\n",
        "    observer.on_completed()\n",
        " \n",
        " \n",
        "# Disposable class son\n",
        "class PrintObserver(rx.disposable.Disposable):\n",
        "    \n",
        "    def on_next(self, value=\"UNDEFINED\"):\n",
        "        print(f\"Received {value}\")\n",
        " \n",
        "    def on_error(self, error=\"UNDEFINED\"):\n",
        "        print(f\"Error: {error}\")\n",
        " \n",
        "    def on_completed(self):\n",
        "        print(\"Completed\")\n",
        " \n",
        " \n",
        "source = rx.create(push_strings)  # Creates an observable\n",
        "source.subscribe(PrintObserver())  # Defines our oservable"
      ],
      "execution_count": null,
      "outputs": [
        {
          "output_type": "stream",
          "text": [
            "Received ALPHA\n",
            "Received BETA\n",
            "Received GAMMA\n",
            "Received DELTA\n",
            "Received EPSILON\n",
            "Completed\n"
          ],
          "name": "stdout"
        },
        {
          "output_type": "execute_result",
          "data": {
            "text/plain": [
              "<rx.disposable.disposable.Disposable at 0x7f0cdd33c748>"
            ]
          },
          "metadata": {
            "tags": []
          },
          "execution_count": 3
        }
      ]
    },
    {
      "cell_type": "code",
      "metadata": {
        "id": "iQxzP1enXzrG",
        "outputId": "ee5b7324-dbb8-4b5a-f73f-35a5ec3f28a2",
        "colab": {
          "base_uri": "https://localhost:8080/"
        }
      },
      "source": [
        "# Observable factories\n",
        " \n",
        "# Creates an observable\n",
        "source = rx.of(\"ALPHA\", \"BETA\", \"GAMMA\", \"DELTA\", \"EPSILON\")\n",
        " \n",
        "source.subscribe(\n",
        "    on_next = lambda i: print(f'Received {i}'),\n",
        "    on_error = lambda e: print(f'Error: {e}'),\n",
        "    on_completed = lambda: print('Completed!'),\n",
        ")"
      ],
      "execution_count": null,
      "outputs": [
        {
          "output_type": "stream",
          "text": [
            "Received ALPHA\n",
            "Received BETA\n",
            "Received GAMMA\n",
            "Received DELTA\n",
            "Received EPSILON\n",
            "Completed!\n"
          ],
          "name": "stdout"
        },
        {
          "output_type": "execute_result",
          "data": {
            "text/plain": [
              "<rx.disposable.disposable.Disposable at 0x7f0cdd33c128>"
            ]
          },
          "metadata": {
            "tags": []
          },
          "execution_count": 4
        }
      ]
    },
    {
      "cell_type": "code",
      "metadata": {
        "id": "stfIeRGZg_ky",
        "outputId": "aacceefe-0974-4a12-ca67-12b3da4d3ab6",
        "colab": {
          "base_uri": "https://localhost:8080/"
        }
      },
      "source": [
        "# Lazy representation, Stocks aren't updated in real time and stock prices\n",
        "# Are randomized\n",
        " \n",
        "stocks = [\n",
        "          {\"TCKR\": \"APPL\", \"PRICE\": 170.00},\n",
        "          {\"TCKR\": \"GOGL\", \"PRICE\": 90.00},\n",
        "          {\"TCKR\": \"TSLA\", \"PRICE\": 120.00},\n",
        "          {\"TCKR\": \"MCSF\", \"PRICE\": 150.00},\n",
        "          {\"TCKR\": \"INTL\", \"PRICE\": 70.00},\n",
        "]\n",
        " \n",
        " \n",
        "def low_price(observer, scheduler):\n",
        "    for stock in stocks:\n",
        "        if stock[\"PRICE\"] <= 100:\n",
        "            observer.on_next(stock[\"TCKR\"])\n",
        "    observer.on_completed()\n",
        " \n",
        " \n",
        "class StockObserver(rx.disposable.Disposable):\n",
        " \n",
        "    def __init__(self, name):\n",
        "        self.name = name\n",
        "        self.bought = 0\n",
        " \n",
        "    def on_next(self, value):\n",
        "        self.bought += 1\n",
        "        print(f'{self.name}: The condition was met, buying \"{value}\" stock!')\n",
        "        print(f'{self.name}: I already bought: {self.bought} stocks')\n",
        " \n",
        "    def on_error(self, error):\n",
        "     print(f'Error: {error}')\n",
        " \n",
        "    def on_completed(self):\n",
        "        print(\"All buying instructions are done!\")\n",
        " \n",
        " \n",
        "source = rx.create(low_price)\n",
        "def checking(name):\n",
        "    time.sleep(5)\n",
        "    source.subscribe(StockObserver(name))\n",
        " \n",
        " \n",
        "threads = []\n",
        "names = [\"Lucas\", \"João\", \"Ana\", \"Arthur\", \"Pedro\",\n",
        "             \"Matheus\", \"Cristiano\", \"Kauan\", \"Isabel\", \"Rose\"]\n",
        " \n",
        "for do_threads in range(5):\n",
        "    name = random.choice(names)\n",
        "    names.remove(name)\n",
        "    thread = threading.Thread(target=checking, name=name, args=(name, ))\n",
        "    threads.append(thread)\n",
        "    thread.start()\n",
        " \n",
        "time.sleep(0.5)\n",
        "print(\"Waiting to update stock...\")\n",
        "time.sleep(0.5)\n",
        " \n",
        "def update_stock(timer=1):\n",
        "    for index, value in enumerate(stocks):\n",
        "        stocks[index][\"PRICE\"] = random.randrange(0, 200)\n",
        " \n",
        "for times in range(5):\n",
        "    time.sleep(1)\n",
        "    update_stock()\n",
        " \n",
        "for thread in threads:\n",
        "    thread.join()\n",
        " \n",
        "time.sleep(10)\n",
        "print('END.')"
      ],
      "execution_count": null,
      "outputs": [
        {
          "output_type": "stream",
          "text": [
            "Waiting to update stock...\n",
            "Kauan: The condition was met, buying \"APPL\" stock!\n",
            "Kauan: I already bought: 1 stocks\n",
            "Kauan: The condition was met, buying \"MCSF\" stock!\n",
            "Kauan: I already bought: 2 stocks\n",
            "All buying instructions are done!\n",
            "Cristiano: The condition was met, buying \"APPL\" stock!\n",
            "Cristiano: I already bought: 1 stocks\n",
            "Lucas: The condition was met, buying \"APPL\" stock!\n",
            "Lucas: I already bought: 1 stocks\n",
            "Lucas: The condition was met, buying \"MCSF\" stock!\n",
            "Lucas: I already bought: 2 stocks\n",
            "All buying instructions are done!\n",
            "Rose: The condition was met, buying \"TSLA\" stock!\n",
            "Cristiano: The condition was met, buying \"TSLA\" stock!Rose: I already bought: 1 stocks\n",
            "Rose: The condition was met, buying \"MCSF\" stock!\n",
            "Rose: I already bought: 2 stocks\n",
            "All buying instructions are done!\n",
            "João: The condition was met, buying \"TSLA\" stock!\n",
            "\n",
            "Cristiano: I already bought: 2 stocks\n",
            "Cristiano: The condition was met, buying \"MCSF\" stock!\n",
            "Cristiano: I already bought: 3 stocks\n",
            "All buying instructions are done!\n",
            "João: I already bought: 1 stocks\n",
            "João: The condition was met, buying \"MCSF\" stock!\n",
            "João: I already bought: 2 stocks\n",
            "All buying instructions are done!\n",
            "END.\n"
          ],
          "name": "stdout"
        }
      ]
    },
    {
      "cell_type": "code",
      "metadata": {
        "id": "8KNFZl9wXUh8",
        "outputId": "496d28d3-cd93-4c15-feaf-6fd7b45bd1ce",
        "colab": {
          "base_uri": "https://localhost:8080/"
        }
      },
      "source": [
        "stocks = [\n",
        "          {\"TCKR\": \"APPL\", \"PRICE\": 170.00},\n",
        "          {\"TCKR\": \"GOGL\", \"PRICE\": 90.00},\n",
        "          {\"TCKR\": \"TSLA\", \"PRICE\": 120.00},\n",
        "          {\"TCKR\": \"MCSF\", \"PRICE\": 150.00},\n",
        "          {\"TCKR\": \"INTL\", \"PRICE\": 70.00},\n",
        "]\n",
        " \n",
        " \n",
        "def low_price(observer, scheduler):\n",
        "    for stock in stocks:\n",
        "        if stock[\"PRICE\"] <= 100:\n",
        "            observer.on_next(stock[\"TCKR\"])\n",
        "    observer.on_completed()\n",
        " \n",
        " \n",
        "source = rx.create(low_price)\n",
        "source.subscribe(lambda value: print(f'Buying {value}'))"
      ],
      "execution_count": null,
      "outputs": [
        {
          "output_type": "stream",
          "text": [
            "Buying GOGL\n",
            "Buying INTL\n"
          ],
          "name": "stdout"
        },
        {
          "output_type": "execute_result",
          "data": {
            "text/plain": [
              "<rx.disposable.disposable.Disposable at 0x7f0cdd266cf8>"
            ]
          },
          "metadata": {
            "tags": []
          },
          "execution_count": 8
        }
      ]
    },
    {
      "cell_type": "code",
      "metadata": {
        "id": "LuiHlLtRWA_T",
        "outputId": "fad8a34f-9aa4-4d99-98d4-04a6b4ee74b6",
        "colab": {
          "base_uri": "https://localhost:8080/"
        }
      },
      "source": [
        "stocks = [\n",
        "          {\"TCKR\": \"APPL\", \"PRICE\": 170.00},\n",
        "          {\"TCKR\": \"GOGL\", \"PRICE\": 90.00},\n",
        "          {\"TCKR\": \"TSLA\", \"PRICE\": 120.00},\n",
        "          {\"TCKR\": \"MCSF\", \"PRICE\": 150.00},\n",
        "          {\"TCKR\": \"INTL\", \"PRICE\": 70.00},\n",
        "]\n",
        " \n",
        "def low_price(observer, scheduler):\n",
        "    for stock in stocks:\n",
        "        if stock[\"PRICE\"] <= 100:\n",
        "            observer.on_next(stock[\"TCKR\"])\n",
        "    observer.on_completed()\n",
        " \n",
        "source = rx.create(low_price)\n",
        "source.subscribe(\n",
        "    on_next=lambda v: print(f\"Buying {v}\"),\n",
        "    on_error=lambda e: print(f\"Error: {e}\"),\n",
        "    on_completed=lambda: print(f\"Completed.\")\n",
        ")"
      ],
      "execution_count": null,
      "outputs": [
        {
          "output_type": "stream",
          "text": [
            "Buying GOGL\n",
            "Buying INTL\n",
            "Completed.\n"
          ],
          "name": "stdout"
        },
        {
          "output_type": "execute_result",
          "data": {
            "text/plain": [
              "<rx.disposable.disposable.Disposable at 0x7f0cdd2649b0>"
            ]
          },
          "metadata": {
            "tags": []
          },
          "execution_count": 10
        }
      ]
    }
  ]
}
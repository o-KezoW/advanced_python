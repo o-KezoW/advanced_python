{
  "nbformat": 4,
  "nbformat_minor": 0,
  "metadata": {
    "colab": {
      "name": "rxConcurrency.ipynb",
      "provenance": [],
      "collapsed_sections": [
        "KAPouVOH5y1_"
      ]
    },
    "kernelspec": {
      "name": "python3",
      "display_name": "Python 3"
    }
  },
  "cells": [
    {
      "cell_type": "markdown",
      "metadata": {
        "id": "KAPouVOH5y1_"
      },
      "source": [
        "## **DEPENDENCIES**"
      ]
    },
    {
      "cell_type": "code",
      "metadata": {
        "id": "XP_3Pn33FHNW",
        "outputId": "69696ffe-2ee7-4c96-9b4b-f34b13db721b",
        "colab": {
          "base_uri": "https://localhost:8080/"
        }
      },
      "source": [
        "!pip install rx"
      ],
      "execution_count": 103,
      "outputs": [
        {
          "output_type": "stream",
          "text": [
            "Requirement already satisfied: rx in /usr/local/lib/python3.6/dist-packages (3.1.1)\n"
          ],
          "name": "stdout"
        }
      ]
    },
    {
      "cell_type": "code",
      "metadata": {
        "id": "BGW8uQlp5bvN"
      },
      "source": [
        "import rx\n",
        "import random\n",
        "import multiprocessing\n",
        "import time\n",
        "import threading"
      ],
      "execution_count": 104,
      "outputs": []
    },
    {
      "cell_type": "markdown",
      "metadata": {
        "id": "HKuDbv8v54oR"
      },
      "source": [
        "## **MAIN**"
      ]
    },
    {
      "cell_type": "code",
      "metadata": {
        "id": "ZGysMFeL5pNB",
        "outputId": "bdc9c0c7-aaaa-48c4-9411-acc54153e2ba",
        "colab": {
          "base_uri": "https://localhost:8080/"
        }
      },
      "source": [
        "def intense_calc(value):\n",
        "    \"\"\"\n",
        "Function that simulates an intense calculation using time.sleep() and random\n",
        "    \"\"\"\n",
        "    time.sleep(random.randint(5, 20) * 0.1)\n",
        "    return value\n",
        "\n",
        "\n",
        "# Calcs the number of cpus, and creates a ThreadPoolScheduler \n",
        "# Of threads with the number of threads\n",
        "opt_thread_count = multiprocessing.cpu_count()\n",
        "pool_scheduler = rx.scheduler.ThreadPoolScheduler(opt_thread_count)\n",
        "\n",
        "source = rx.of(\"JavaScript\", \"Python\", \"Java\", \"PHP\", \"C#\")\n",
        "\n",
        "source.pipe(\n",
        "    rx.operators.map(lambda s: intense_calc(s)),\n",
        "    rx.operators.subscribe_on(pool_scheduler)\n",
        ").subscribe(\n",
        "    on_next=lambda i: print(f\"Process 1: {threading.current_thread().name} {i}\"),\n",
        "    on_error=lambda e: print(f\"Error p1: {e}\"),\n",
        "    on_completed=lambda: print(\"Finished: process 1\")\n",
        ");\n",
        "\n",
        "\n",
        "# Creates the second process\n",
        "rx.range(1, 10).pipe(\n",
        "    rx.operators.map(lambda s: intense_calc(s)),\n",
        "    rx.operators.subscribe_on(pool_scheduler)\n",
        ").subscribe(\n",
        "on_next=lambda i: print(f\"Process 2: {threading.current_thread().name} {i}\"),\n",
        "    on_error=lambda e: print(f\"Error p2: {e}\"),\n",
        "    on_completed=lambda: print(\"Finished: process 2\")\n",
        ");\n",
        "\n",
        "\n",
        "# Creates our third process with an infinite loop\n",
        "rx.interval(1).pipe(\n",
        "    rx.operators.map(lambda i: i * 100),\n",
        "    rx.operators.observe_on(pool_scheduler),\n",
        "    rx.operators.map(lambda s: intense_calc(s))\n",
        ").subscribe(\n",
        "    on_next=lambda i: print(f\"Process 3: {threading.current_thread().name} {i}\"),\n",
        "    on_error=lambda e: print(f\"Error p3: {e}\"),\n",
        "    on_completed=lambda: print(\"Finished: process 3\")\n",
        ");\n",
        "\n",
        "input(\"Press anything to stop: \");"
      ],
      "execution_count": 133,
      "outputs": [
        {
          "output_type": "stream",
          "text": [
            "Process 3: ThreadPoolExecutor-9_0\n",
            "Process 3: ThreadPoolExecutor-11_0 9000\n",
            "Process 3: ThreadPoolExecutor-9_0\n",
            "Process 3: ThreadPoolExecutor-12_0 3900\n",
            "Process 3: ThreadPoolExecutor-10_1\n",
            "Process 3: ThreadPoolExecutor-13_0 700\n",
            "Process 1: ThreadPoolExecutor-14_0 JavaScript\n",
            "Process 3: ThreadPoolExecutor-11_0 9100\n",
            "Process 3: ThreadPoolExecutor-12_0 4000\n",
            "Press anything to stop:  \n",
            "Process 2: ThreadPoolExecutor-14_1 1\n",
            "Process 1: ThreadPoolExecutor-14_0 Python\n",
            "Process 3: ThreadPoolExecutor-10_1\n",
            "Process 3: ThreadPoolExecutor-9_0\n"
          ],
          "name": "stdout"
        }
      ]
    }
  ]
}
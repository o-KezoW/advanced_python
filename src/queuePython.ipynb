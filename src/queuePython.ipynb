{
  "nbformat": 4,
  "nbformat_minor": 0,
  "metadata": {
    "colab": {
      "name": "queuePython.ipynb",
      "provenance": []
    },
    "kernelspec": {
      "name": "python3",
      "display_name": "Python 3"
    }
  },
  "cells": [
    {
      "cell_type": "markdown",
      "metadata": {
        "id": "4J2NefujYE5O"
      },
      "source": [
        "# **QUEUE**"
      ]
    },
    {
      "cell_type": "code",
      "metadata": {
        "id": "rjzr6RoUY37x",
        "outputId": "bface60c-ed15-4254-d1c1-17e47d87a5d9",
        "colab": {
          "base_uri": "https://localhost:8080/"
        }
      },
      "source": [
        "import threading\n",
        "import time\n",
        "from queue import Queue\n",
        "\n",
        "\n",
        "# put(), get(), join(), task_done()\n",
        "def consumer(queue):\n",
        "    name = threading.currentThread().getName()\n",
        "    while True:\n",
        "        print(\n",
        "        f'Thread: {name} is trying to get an item in queue',\n",
        "        f'[present size - {queue.qsize()}] in date: {time.strftime(\"%H:%M:%S\")}'\n",
        "        );\n",
        "        item = queue.get();\n",
        "        time.sleep(3)  # Makes it so it takes 3 seconds to get another item\n",
        "        print(\n",
        "    f'Thread: {name} finished processing the item from the queue',\n",
        "    f'[present size - {queue.qsize()}] in date: {time.strftime(\"%H:%M:%S\")})'\n",
        "    )\n",
        "        queue.task_done()\n",
        "\n",
        "\n",
        "def producer(queue):\n",
        "    # The main thread will add items to the queue\n",
        "    name = threading.currentThread().getName()\n",
        "    for i in range(10):\n",
        "        print(\n",
        "    f'Thread: {name} started producing an item for the queue',\n",
        "    f'[present size - {queue.qsize()}] in date: {time.strftime(\"%H:%M:%S\")}'\n",
        "    )\n",
        "        item = f'item {i}'\n",
        "        queue.put(item)\n",
        "        print(\n",
        "            f'Thread: {name} added an item for the queue[present size',\n",
        "            f'- {queue.qsize()} in date: {time.strftime(\"%H:%M:%S\")}'\n",
        "        )\n",
        "    queue.join()\n",
        "\n",
        "\n",
        "if __name__ == '__main__':\n",
        "    queue = Queue(maxsize=3)\n",
        "    threads_amount = 3\n",
        "    \n",
        "    # Creating 3 consuming threads\n",
        "    for i in range(threads_amount):\n",
        "        t = threading.Thread(name=f'Consumer - {i}',\n",
        "                             target=consumer, args=(queue,))\n",
        "        t.start()\n",
        "\n",
        "    # Creating a producer thread\n",
        "    t = threading.Thread(name='producer', target=producer, args=(queue,))\n",
        "    t.start()\n",
        "\n",
        "    queue.join()\n",
        "        "
      ],
      "execution_count": 1,
      "outputs": [
        {
          "output_type": "stream",
          "text": [
            "Thread: Consumer - 0 is trying to get an item in queue [present size - 0] in date: 11:35:21\n",
            "Thread: Consumer - 1 is trying to get an item in queue [present size - 0] in date: 11:35:21\n",
            "Thread: Consumer - 2 is trying to get an item in queue [present size - 0] in date: 11:35:21\n",
            "Thread: producer started producing an item for the queue [present size - 0] in date: 11:35:21\n",
            "Thread: producer added an item for the queue[present size - 1 in date: 11:35:21\n",
            "Thread: producer started producing an item for the queue [present size - 1] in date: 11:35:21\n",
            "Thread: producer added an item for the queue[present size - 1 in date: 11:35:21\n",
            "Thread: producer started producing an item for the queue [present size - 0] in date: 11:35:21\n",
            "Thread: producer added an item for the queue[present size - 1 in date: 11:35:21\n",
            "Thread: producer started producing an item for the queue [present size - 1] in date: 11:35:21\n",
            "Thread: producer added an item for the queue[present size - 2 in date: 11:35:21\n",
            "Thread: producer started producing an item for the queue [present size - 2] in date: 11:35:21\n",
            "Thread: producer added an item for the queue[present size - 3 in date: 11:35:21\n",
            "Thread: producer started producing an item for the queue [present size - 3] in date: 11:35:21\n",
            "Thread: producer added an item for the queue[present size - 3 in date: 11:35:21\n",
            "Thread: producer started producing an item for the queue [present size - 3] in date: 11:35:21\n",
            "Thread: Consumer - 0 finished processing the item from the queueThread: Consumer - 2 finished processing the item from the queue [present size - 3] in date: 11:35:24)\n",
            "Thread: Consumer - 2 is trying to get an item in queue [present size - 3] in date: 11:35:24\n",
            "Thread: producer added an item for the queue[present size [present size - 3] in date: 11:35:24)\n",
            "Thread: Consumer - 0 is trying to get an item in queue [present size - 3] in date: 11:35:24\n",
            " - 3 in date: 11:35:24\n",
            "Thread: producer started producing an item for the queue [present size - 2] in date: 11:35:24\n",
            "Thread: producer added an item for the queue[present size - 3 in date: 11:35:24\n",
            "Thread: producer started producing an item for the queue [present size - 3] in date: 11:35:24\n",
            "Thread: Consumer - 1 finished processing the item from the queue [present size - 3] in date: 11:35:24)\n",
            "Thread: Consumer - 1 is trying to get an item in queue [present size - 3] in date: 11:35:24\n",
            "Thread: producer added an item for the queue[present size - 3 in date: 11:35:24\n",
            "Thread: producer started producing an item for the queue [present size - 3] in date: 11:35:24\n",
            "Thread: Consumer - 2 finished processing the item from the queueThread: Consumer - 0 finished processing the item from the queue Thread: Consumer - 1 finished processing the item from the queue  [present size - 3] in date: 11:35:27)\n",
            "Thread: Consumer - 0 is trying to get an item in queue [present size - 3] in date: 11:35:27\n",
            "Thread: producer added an item for the queue[present size - 3 in date: 11:35:27\n",
            "[present size - 3] in date: 11:35:27)\n",
            "Thread: Consumer - 1 is trying to get an item in queue [present size - 3] in date: 11:35:27\n",
            "[present size - 3] in date: 11:35:27)\n",
            "Thread: Consumer - 2 is trying to get an item in queue [present size - 2] in date: 11:35:27\n",
            "Thread: Consumer - 0 finished processing the item from the queueThread: Consumer - 1 finished processing the item from the queue [present size - 1] in date: 11:35:30)\n",
            "Thread: Consumer - 1 is trying to get an item in queue [present size - 1] in date: 11:35:30\n",
            " [present size - 1] in date: 11:35:30)\n",
            "Thread: Consumer - 0 is trying to get an item in queue [present size - 0] in date: 11:35:30\n",
            "Thread: Consumer - 2 finished processing the item from the queue [present size - 0] in date: 11:35:30)\n",
            "Thread: Consumer - 2 is trying to get an item in queue [present size - 0] in date: 11:35:30\n",
            "Thread: Consumer - 1 finished processing the item from the queue [present size - 0] in date: 11:35:33)\n",
            "Thread: Consumer - 1 is trying to get an item in queue [present size - 0] in date: 11:35:33\n"
          ],
          "name": "stdout"
        }
      ]
    },
    {
      "cell_type": "markdown",
      "metadata": {
        "id": "XtandUIxx6cL"
      },
      "source": [
        ""
      ]
    }
  ]
}
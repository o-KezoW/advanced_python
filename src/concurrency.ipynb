{
  "nbformat": 4,
  "nbformat_minor": 0,
  "metadata": {
    "colab": {
      "name": "concurrency",
      "provenance": [],
      "collapsed_sections": []
    },
    "kernelspec": {
      "name": "python3",
      "display_name": "Python 3"
    }
  },
  "cells": [
    {
      "cell_type": "markdown",
      "metadata": {
        "id": "o-AfnPAVDJyD"
      },
      "source": [
        "# **CONCURRENCY**\n",
        "### **Concurrency** - code adapted from:\n",
        "> [ FORBES, Elliot, Learning Concurrency in Python:Build highly efficient, robust, and concurrent applications. 2017 ]"
      ]
    },
    {
      "cell_type": "code",
      "metadata": {
        "id": "tnhxWV3oDwk3",
        "outputId": "ff39684e-aa65-4a85-c24f-f86669d3c662",
        "colab": {
          "base_uri": "https://localhost:8080/"
        }
      },
      "source": [
        "import multiprocessing\n",
        "\n",
        "# Identifying the quantity of available cores\n",
        "print(f'You have {multiprocessing.cpu_count()} available cores.')"
      ],
      "execution_count": null,
      "outputs": [
        {
          "output_type": "stream",
          "text": [
            "You have 2 available cores.\n"
          ],
          "name": "stdout"
        }
      ]
    },
    {
      "cell_type": "markdown",
      "metadata": {
        "id": "b3EXM0LkQfXB"
      },
      "source": [
        "## **NO CONCURRENCY**"
      ]
    },
    {
      "cell_type": "code",
      "metadata": {
        "id": "SXAq-I-iIgz5",
        "outputId": "239f7ee4-a520-472b-fabe-c0af563380d2",
        "colab": {
          "base_uri": "https://localhost:8080/"
        }
      },
      "source": [
        "# Sequencial processing\n",
        "import threading  # To build threads\n",
        "import urllib.request  # To request an url\n",
        "import time  # For timing\n",
        "\n",
        "# Function to download images\n",
        "def download_img(img_path, file_name, log=False):\n",
        "    if log:\n",
        "        print(f'requesting: \"{file_name}\" to \"{img_path}\"')\n",
        "    return urllib.request.urlretrieve(img_path, file_name)\n",
        "\n",
        "\n",
        "t0 = time.time()  # Storages the execution time\n",
        "id = 0\n",
        "\n",
        "for i in range(10):\n",
        "    img_name = f'images/cool_file_{id}_.jpg'  # Name for the downloaded images\n",
        "    id += 1\n",
        "    download_img(\n",
        "        img_path='https://via.placeholder.com/150',\n",
        "         file_name=img_name, log=True\n",
        "         )\n",
        "\n",
        "t1 = time.time() # Storages the ending time\n",
        "total_time = t1 - t0  # Calculates the difference between the 2 times\n",
        "\n",
        "print(f'\\nTotal execution time: {total_time}')"
      ],
      "execution_count": null,
      "outputs": [
        {
          "output_type": "stream",
          "text": [
            "requesting: \"images/cool_file_0_.jpg\" to \"https://via.placeholder.com/150\"\n",
            "requesting: \"images/cool_file_1_.jpg\" to \"https://via.placeholder.com/150\"\n",
            "requesting: \"images/cool_file_2_.jpg\" to \"https://via.placeholder.com/150\"\n",
            "requesting: \"images/cool_file_3_.jpg\" to \"https://via.placeholder.com/150\"\n",
            "requesting: \"images/cool_file_4_.jpg\" to \"https://via.placeholder.com/150\"\n",
            "requesting: \"images/cool_file_5_.jpg\" to \"https://via.placeholder.com/150\"\n",
            "requesting: \"images/cool_file_6_.jpg\" to \"https://via.placeholder.com/150\"\n",
            "requesting: \"images/cool_file_7_.jpg\" to \"https://via.placeholder.com/150\"\n",
            "requesting: \"images/cool_file_8_.jpg\" to \"https://via.placeholder.com/150\"\n",
            "requesting: \"images/cool_file_9_.jpg\" to \"https://via.placeholder.com/150\"\n",
            "\n",
            "Total execution time: 1.1927876472473145\n"
          ],
          "name": "stdout"
        }
      ]
    },
    {
      "cell_type": "markdown",
      "metadata": {
        "id": "B4t8VzhKZW0i"
      },
      "source": [
        "## **YES CONCURRENCY**"
      ]
    },
    {
      "cell_type": "code",
      "metadata": {
        "id": "WSQqMWEvylUr",
        "outputId": "86e71ade-7275-485b-f22b-5186ee21e5de",
        "colab": {
          "base_uri": "https://localhost:8080/"
        }
      },
      "source": [
        "# Concurrent processing\n",
        "import threading  # To build threads\n",
        "import urllib.request  # To request an url\n",
        "import time  # For timing\n",
        "from random import randint\n",
        "import os.path\n",
        "import urllib\n",
        "from time import sleep\n",
        "\n",
        "\n",
        "# Function to download images\n",
        "def download_img(img_path, file_name, log=False):\n",
        "    \"\"\"\n",
        "Downloads an image\n",
        "img_path = path tho the image you want to download\n",
        "file_name = name that you want to name your file (e.g \"example.png\")\n",
        "log = if you want to  bit of logging about your request status set to \"True\".\n",
        "    \"\"\"\n",
        "    except_res = (\n",
        "        f'you could check if you mispelled your img_path \"{img_path}\"',\n",
        "        \"wrong maybe.\",\n",
        "    )\n",
        "    if os.path.exists(file_name):\n",
        "        old_file_name = file_name\n",
        "        split_file_name = file_name.split(\".\")\n",
        "        suffix = split_file_name[-1]\n",
        "        split_file_name.pop()\n",
        "        id = 0\n",
        "        exclude = [0]\n",
        "        split_file_name = \"\".join(split_file_name)\n",
        "        while os.path.exists(file_name):\n",
        "            while id in exclude:\n",
        "                id = randint(0, 9999)\n",
        "            exclude.append(id)\n",
        "            file_name = f\"{split_file_name}_{id}.{suffix}\"\n",
        "            print(\n",
        "                f'\\033[33mSINCE \"{old_file_name}\" ALREADY EXISTED THE FILE ',\n",
        "                f'\\033[33mNAME WAS CHANGED TO \"{file_name}\"\\033[0m',\n",
        "            )\n",
        "        exclude = []\n",
        "    if log:\n",
        "        print(f'requesting: \"{file_name}\" to \"{img_path}\"')\n",
        "        try:\n",
        "            request = urllib.request.urlretrieve(img_path, file_name)\n",
        "        except:\n",
        "            pass\n",
        "        finally:\n",
        "            try:\n",
        "                if request:\n",
        "                    print(\n",
        "                        f'\\033[32mDowload of \"{file_name}\"',\n",
        "                        'was successful\\033[0m'\n",
        "                    )\n",
        "                return request\n",
        "            except:\n",
        "                print(\n",
        "                    f'\\033[31mDownload of \"{file_name}\"\" got an error,',\n",
        "                     '{except_res}\\033[0m'\n",
        "                )\n",
        "                return urllib.request.urlretrieve(img_path, file_name)\n",
        "            finally:\n",
        "                sleep(1)\n",
        "    else:\n",
        "        try:\n",
        "            return urllib.request.urlretrieve(img_path, file_name)\n",
        "        except:\n",
        "            print(\n",
        "                '\\033[31mERROR, activate log to see the error, ',\n",
        "                '\\033[31mreturned \"None\" instead.\\033[0m'\n",
        "            )\n",
        "            return None\n",
        "        finally:\n",
        "            sleep(1)\n",
        "\n",
        "\n",
        "# Function to execute the threads\n",
        "def execute_thread(id=0):\n",
        "    exclude = [id]\n",
        "    while id in exclude:\n",
        "        exclude.append(id)\n",
        "        id = randint(0, 999)\n",
        "    img_name = f\"sample/cool_file_{id}_.jpg\"\n",
        "    download_img(\n",
        "        img_path=\"https://via.placeholder.com/150\",\n",
        "         file_name=img_name, log=True\n",
        "    )\n",
        "\n",
        "\n",
        "t0 = time.time()  # Storages the execution time\n",
        "threads = []  # Empty list to storage all created threads\n",
        "\n",
        "\n",
        "for foo in range(10):\n",
        "    thread = threading.Thread(target=execute_thread, args=(0,))\n",
        "    threads.append(thread)\n",
        "    thread.start()\n",
        "\n",
        "\n",
        "# Makes sure that all threads got properly executed\n",
        "for bar in threads:\n",
        "    bar.join()\n",
        "\n",
        "t1 = time.time()\n",
        "total_time = t1 - t0 - 1  # -1 because in the \"download_img\"\n",
        "#                           function there is a time.sleep(1)\n",
        "print(f\"\\nTotal execution time: {total_time}\")\n"
      ],
      "execution_count": 37,
      "outputs": [
        {
          "output_type": "stream",
          "text": [
            "requesting: \"sample/cool_file_464_.jpg\" to \"https://via.placeholder.com/150\"\n",
            "requesting: \"sample/cool_file_786_.jpg\" to \"https://via.placeholder.com/150\"\n",
            "requesting: \"sample/cool_file_730_.jpg\" to \"https://via.placeholder.com/150\"\n",
            "requesting: \"sample/cool_file_681_.jpg\" to \"https://via.placeholder.com/150\"\n",
            "requesting: \"sample/cool_file_535_.jpg\" to \"https://via.placeholder.com/150\"\n",
            "requesting: \"sample/cool_file_709_.jpg\" to \"https://via.placeholder.com/150\"\n",
            "requesting: \"sample/cool_file_255_.jpg\" to \"https://via.placeholder.com/150\"\n",
            "requesting: \"sample/cool_file_51_.jpg\" to \"https://via.placeholder.com/150\"\n",
            "requesting: \"sample/cool_file_843_.jpg\" to \"https://via.placeholder.com/150\"\n",
            "requesting: \"sample/cool_file_24_.jpg\" to \"https://via.placeholder.com/150\"\n",
            "\u001b[32mDowload of \"sample/cool_file_681_.jpg\" was successful\u001b[0m\n",
            "\u001b[32mDowload of \"sample/cool_file_786_.jpg\"\u001b[32mDowload of \"sample/cool_file_730_.jpg\" was successful\u001b[0m\n",
            " was successful\u001b[0m\n",
            "\u001b[32mDowload of \"sample/cool_file_535_.jpg\" was successful\u001b[0m\n",
            "\u001b[32mDowload of \"sample/cool_file_709_.jpg\" was successful\u001b[0m\n",
            "\u001b[32mDowload of \"sample/cool_file_51_.jpg\" was successful\u001b[0m\n",
            "\u001b[32mDowload of \"sample/cool_file_255_.jpg\" was successful\u001b[0m\n",
            "\u001b[32mDowload of \"sample/cool_file_843_.jpg\" was successful\u001b[0m\n",
            "\u001b[32mDowload of \"sample/cool_file_24_.jpg\" was successful\u001b[0m\n",
            "\u001b[32mDowload of \"sample/cool_file_464_.jpg\" was successful\u001b[0m\n",
            "\n",
            "Total execution time: 0.6778817176818848\n"
          ],
          "name": "stdout"
        }
      ]
    },
    {
      "cell_type": "markdown",
      "metadata": {
        "id": "ufuJ6LoSLfRi"
      },
      "source": [
        "As you can see even though the one with concurrency was way more complex, it managed to run faster because of threading"
      ]
    },
    {
      "cell_type": "code",
      "metadata": {
        "id": "d4MIVhRC88ZB",
        "outputId": "fa55c77a-22f5-43e0-9a5b-4a633f05abb1",
        "colab": {
          "base_uri": "https://localhost:8080/",
          "height": 180
        }
      },
      "source": [
        ""
      ],
      "execution_count": 2,
      "outputs": [
        {
          "output_type": "error",
          "ename": "AttributeError",
          "evalue": "ignored",
          "traceback": [
            "\u001b[0;31m---------------------------------------------------------------------------\u001b[0m",
            "\u001b[0;31mAttributeError\u001b[0m                            Traceback (most recent call last)",
            "\u001b[0;32m<ipython-input-2-266a17f53c61>\u001b[0m in \u001b[0;36m<module>\u001b[0;34m()\u001b[0m\n\u001b[1;32m      1\u001b[0m \u001b[0mlista\u001b[0m \u001b[0;34m=\u001b[0m \u001b[0;34m[\u001b[0m\u001b[0;36m1\u001b[0m\u001b[0;34m,\u001b[0m \u001b[0;36m2\u001b[0m\u001b[0;34m,\u001b[0m \u001b[0;36m3\u001b[0m\u001b[0;34m]\u001b[0m\u001b[0;34m\u001b[0m\u001b[0;34m\u001b[0m\u001b[0m\n\u001b[0;32m----> 2\u001b[0;31m \u001b[0mlista\u001b[0m\u001b[0;34m.\u001b[0m\u001b[0mvalue_counts\u001b[0m\u001b[0;34m(\u001b[0m\u001b[0;34m)\u001b[0m\u001b[0;34m\u001b[0m\u001b[0;34m\u001b[0m\u001b[0m\n\u001b[0m",
            "\u001b[0;31mAttributeError\u001b[0m: 'list' object has no attribute 'value_counts'"
          ]
        }
      ]
    }
  ]
}
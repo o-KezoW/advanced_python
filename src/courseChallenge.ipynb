{
  "nbformat": 4,
  "nbformat_minor": 0,
  "metadata": {
    "colab": {
      "name": "courseChallenge.ipynb",
      "provenance": []
    },
    "kernelspec": {
      "name": "python3",
      "display_name": "Python 3"
    }
  },
  "cells": [
    {
      "cell_type": "markdown",
      "metadata": {
        "id": "24KOO4sAYsE-"
      },
      "source": [
        "# **SKLEARN**"
      ]
    },
    {
      "cell_type": "markdown",
      "metadata": {
        "id": "7I8RVpagY3Zy"
      },
      "source": [
        "## **MAIN**"
      ]
    },
    {
      "cell_type": "code",
      "metadata": {
        "id": "RDBwyabA_Fka"
      },
      "source": [
        "import pandas as pd\n",
        "import sklearn as sk"
      ],
      "execution_count": 72,
      "outputs": []
    },
    {
      "cell_type": "code",
      "metadata": {
        "id": "xDQRJopU_H9W",
        "outputId": "eaf4c93a-b7a6-4d05-a218-aed7cd7e17e7",
        "colab": {
          "base_uri": "https://localhost:8080/",
          "height": 0
        }
      },
      "source": [
        "df = pd.read_csv('https://raw.githubusercontent.com/o-KezoW/' + \n",
        "            'advanced_python/main/src/data_files/doencas_coracao.csv')\n",
        "df"
      ],
      "execution_count": 73,
      "outputs": [
        {
          "output_type": "execute_result",
          "data": {
            "text/html": [
              "<div>\n",
              "<style scoped>\n",
              "    .dataframe tbody tr th:only-of-type {\n",
              "        vertical-align: middle;\n",
              "    }\n",
              "\n",
              "    .dataframe tbody tr th {\n",
              "        vertical-align: top;\n",
              "    }\n",
              "\n",
              "    .dataframe thead th {\n",
              "        text-align: right;\n",
              "    }\n",
              "</style>\n",
              "<table border=\"1\" class=\"dataframe\">\n",
              "  <thead>\n",
              "    <tr style=\"text-align: right;\">\n",
              "      <th></th>\n",
              "      <th>age</th>\n",
              "      <th>anaemia</th>\n",
              "      <th>creatinine_phosphokinase</th>\n",
              "      <th>diabetes</th>\n",
              "      <th>ejection_fraction</th>\n",
              "      <th>high_blood_pressure</th>\n",
              "      <th>platelets</th>\n",
              "      <th>serum_creatinine</th>\n",
              "      <th>serum_sodium</th>\n",
              "      <th>sex</th>\n",
              "      <th>smoking</th>\n",
              "      <th>time</th>\n",
              "      <th>DEATH_EVENT</th>\n",
              "    </tr>\n",
              "  </thead>\n",
              "  <tbody>\n",
              "    <tr>\n",
              "      <th>0</th>\n",
              "      <td>75.0</td>\n",
              "      <td>0</td>\n",
              "      <td>582</td>\n",
              "      <td>0</td>\n",
              "      <td>20</td>\n",
              "      <td>1</td>\n",
              "      <td>265000.00</td>\n",
              "      <td>1.9</td>\n",
              "      <td>130</td>\n",
              "      <td>1</td>\n",
              "      <td>0</td>\n",
              "      <td>4</td>\n",
              "      <td>1</td>\n",
              "    </tr>\n",
              "    <tr>\n",
              "      <th>1</th>\n",
              "      <td>55.0</td>\n",
              "      <td>0</td>\n",
              "      <td>7861</td>\n",
              "      <td>0</td>\n",
              "      <td>38</td>\n",
              "      <td>0</td>\n",
              "      <td>263358.03</td>\n",
              "      <td>1.1</td>\n",
              "      <td>136</td>\n",
              "      <td>1</td>\n",
              "      <td>0</td>\n",
              "      <td>6</td>\n",
              "      <td>1</td>\n",
              "    </tr>\n",
              "    <tr>\n",
              "      <th>2</th>\n",
              "      <td>65.0</td>\n",
              "      <td>0</td>\n",
              "      <td>146</td>\n",
              "      <td>0</td>\n",
              "      <td>20</td>\n",
              "      <td>0</td>\n",
              "      <td>162000.00</td>\n",
              "      <td>1.3</td>\n",
              "      <td>129</td>\n",
              "      <td>1</td>\n",
              "      <td>1</td>\n",
              "      <td>7</td>\n",
              "      <td>1</td>\n",
              "    </tr>\n",
              "    <tr>\n",
              "      <th>3</th>\n",
              "      <td>50.0</td>\n",
              "      <td>1</td>\n",
              "      <td>111</td>\n",
              "      <td>0</td>\n",
              "      <td>20</td>\n",
              "      <td>0</td>\n",
              "      <td>210000.00</td>\n",
              "      <td>1.9</td>\n",
              "      <td>137</td>\n",
              "      <td>1</td>\n",
              "      <td>0</td>\n",
              "      <td>7</td>\n",
              "      <td>1</td>\n",
              "    </tr>\n",
              "    <tr>\n",
              "      <th>4</th>\n",
              "      <td>65.0</td>\n",
              "      <td>1</td>\n",
              "      <td>160</td>\n",
              "      <td>1</td>\n",
              "      <td>20</td>\n",
              "      <td>0</td>\n",
              "      <td>327000.00</td>\n",
              "      <td>2.7</td>\n",
              "      <td>116</td>\n",
              "      <td>0</td>\n",
              "      <td>0</td>\n",
              "      <td>8</td>\n",
              "      <td>1</td>\n",
              "    </tr>\n",
              "    <tr>\n",
              "      <th>...</th>\n",
              "      <td>...</td>\n",
              "      <td>...</td>\n",
              "      <td>...</td>\n",
              "      <td>...</td>\n",
              "      <td>...</td>\n",
              "      <td>...</td>\n",
              "      <td>...</td>\n",
              "      <td>...</td>\n",
              "      <td>...</td>\n",
              "      <td>...</td>\n",
              "      <td>...</td>\n",
              "      <td>...</td>\n",
              "      <td>...</td>\n",
              "    </tr>\n",
              "    <tr>\n",
              "      <th>294</th>\n",
              "      <td>62.0</td>\n",
              "      <td>0</td>\n",
              "      <td>61</td>\n",
              "      <td>1</td>\n",
              "      <td>38</td>\n",
              "      <td>1</td>\n",
              "      <td>155000.00</td>\n",
              "      <td>1.1</td>\n",
              "      <td>143</td>\n",
              "      <td>1</td>\n",
              "      <td>1</td>\n",
              "      <td>270</td>\n",
              "      <td>0</td>\n",
              "    </tr>\n",
              "    <tr>\n",
              "      <th>295</th>\n",
              "      <td>55.0</td>\n",
              "      <td>0</td>\n",
              "      <td>1820</td>\n",
              "      <td>0</td>\n",
              "      <td>38</td>\n",
              "      <td>0</td>\n",
              "      <td>270000.00</td>\n",
              "      <td>1.2</td>\n",
              "      <td>139</td>\n",
              "      <td>0</td>\n",
              "      <td>0</td>\n",
              "      <td>271</td>\n",
              "      <td>0</td>\n",
              "    </tr>\n",
              "    <tr>\n",
              "      <th>296</th>\n",
              "      <td>45.0</td>\n",
              "      <td>0</td>\n",
              "      <td>2060</td>\n",
              "      <td>1</td>\n",
              "      <td>60</td>\n",
              "      <td>0</td>\n",
              "      <td>742000.00</td>\n",
              "      <td>0.8</td>\n",
              "      <td>138</td>\n",
              "      <td>0</td>\n",
              "      <td>0</td>\n",
              "      <td>278</td>\n",
              "      <td>0</td>\n",
              "    </tr>\n",
              "    <tr>\n",
              "      <th>297</th>\n",
              "      <td>45.0</td>\n",
              "      <td>0</td>\n",
              "      <td>2413</td>\n",
              "      <td>0</td>\n",
              "      <td>38</td>\n",
              "      <td>0</td>\n",
              "      <td>140000.00</td>\n",
              "      <td>1.4</td>\n",
              "      <td>140</td>\n",
              "      <td>1</td>\n",
              "      <td>1</td>\n",
              "      <td>280</td>\n",
              "      <td>0</td>\n",
              "    </tr>\n",
              "    <tr>\n",
              "      <th>298</th>\n",
              "      <td>50.0</td>\n",
              "      <td>0</td>\n",
              "      <td>196</td>\n",
              "      <td>0</td>\n",
              "      <td>45</td>\n",
              "      <td>0</td>\n",
              "      <td>395000.00</td>\n",
              "      <td>1.6</td>\n",
              "      <td>136</td>\n",
              "      <td>1</td>\n",
              "      <td>1</td>\n",
              "      <td>285</td>\n",
              "      <td>0</td>\n",
              "    </tr>\n",
              "  </tbody>\n",
              "</table>\n",
              "<p>299 rows × 13 columns</p>\n",
              "</div>"
            ],
            "text/plain": [
              "      age  anaemia  creatinine_phosphokinase  ...  smoking  time  DEATH_EVENT\n",
              "0    75.0        0                       582  ...        0     4            1\n",
              "1    55.0        0                      7861  ...        0     6            1\n",
              "2    65.0        0                       146  ...        1     7            1\n",
              "3    50.0        1                       111  ...        0     7            1\n",
              "4    65.0        1                       160  ...        0     8            1\n",
              "..    ...      ...                       ...  ...      ...   ...          ...\n",
              "294  62.0        0                        61  ...        1   270            0\n",
              "295  55.0        0                      1820  ...        0   271            0\n",
              "296  45.0        0                      2060  ...        0   278            0\n",
              "297  45.0        0                      2413  ...        1   280            0\n",
              "298  50.0        0                       196  ...        1   285            0\n",
              "\n",
              "[299 rows x 13 columns]"
            ]
          },
          "metadata": {
            "tags": []
          },
          "execution_count": 73
        }
      ]
    },
    {
      "cell_type": "code",
      "metadata": {
        "id": "8hSLvCv-E5bV",
        "outputId": "e173edf3-397f-495f-8306-81f9fac8c735",
        "colab": {
          "base_uri": "https://localhost:8080/"
        }
      },
      "source": [
        "# Converting the data into an array\n",
        "x = df.iloc[:, :-1].values\n",
        "y = df.iloc[:, -1].values\n",
        "    \n",
        "\n",
        "print(f'''X ARRAY (INPUT):\n",
        "{x}\n",
        "Y ARRAY (TARGET, OUTPUT):\n",
        "{y}''')"
      ],
      "execution_count": 74,
      "outputs": [
        {
          "output_type": "stream",
          "text": [
            "X ARRAY (INPUT):\n",
            "[[7.500e+01 0.000e+00 5.820e+02 ... 1.000e+00 0.000e+00 4.000e+00]\n",
            " [5.500e+01 0.000e+00 7.861e+03 ... 1.000e+00 0.000e+00 6.000e+00]\n",
            " [6.500e+01 0.000e+00 1.460e+02 ... 1.000e+00 1.000e+00 7.000e+00]\n",
            " ...\n",
            " [4.500e+01 0.000e+00 2.060e+03 ... 0.000e+00 0.000e+00 2.780e+02]\n",
            " [4.500e+01 0.000e+00 2.413e+03 ... 1.000e+00 1.000e+00 2.800e+02]\n",
            " [5.000e+01 0.000e+00 1.960e+02 ... 1.000e+00 1.000e+00 2.850e+02]]\n",
            "Y ARRAY (TARGET, OUTPUT):\n",
            "[1 1 1 1 1 1 1 1 1 1 1 1 1 1 0 1 1 1 1 1 0 1 1 0 1 1 1 1 1 1 1 1 1 0 1 1 1\n",
            " 1 0 1 1 1 1 0 1 1 1 1 1 1 1 1 1 1 1 1 0 0 1 1 1 1 0 1 0 1 1 1 1 1 0 0 1 0\n",
            " 1 1 0 0 0 0 0 0 1 0 1 0 0 0 0 0 0 0 0 1 0 0 0 0 0 0 0 0 0 0 0 1 0 0 0 0 1\n",
            " 0 0 1 0 0 0 0 0 1 0 0 0 0 1 0 1 0 0 0 0 0 0 0 0 0 0 0 0 0 1 0 0 0 1 0 0 0\n",
            " 1 0 1 0 0 0 0 0 0 0 0 0 0 0 0 1 1 1 0 1 0 0 0 0 0 0 0 0 0 0 0 0 0 1 1 1 1\n",
            " 1 1 1 0 0 0 0 0 0 1 1 0 0 0 0 0 0 0 0 0 0 0 0 0 0 0 0 0 1 0 0 0 1 0 0 1 0\n",
            " 0 0 0 0 0 0 0 0 1 0 0 0 0 0 0 0 0 0 0 0 0 0 0 0 1 0 0 0 0 0 0 0 0 0 0 0 0\n",
            " 0 0 0 1 0 0 0 1 0 0 0 0 0 0 0 0 0 0 0 0 0 0 0 0 0 0 0 0 0 0 0 0 0 0 0 0 0\n",
            " 0 0 0]\n"
          ],
          "name": "stdout"
        }
      ]
    },
    {
      "cell_type": "markdown",
      "metadata": {
        "id": "rNDuTf76Y9t8"
      },
      "source": [
        "## **FOR THE EXAM**"
      ]
    },
    {
      "cell_type": "code",
      "metadata": {
        "id": "nj60Z-p5_TFN",
        "outputId": "e457fbf0-c2a0-43d5-cc9e-e1d6d1008a05",
        "colab": {
          "base_uri": "https://localhost:8080/"
        }
      },
      "source": [
        "death_df = df[['DEATH_EVENT', 'age']]\n",
        "is_dead = death_df['DEATH_EVENT'] == 1\n",
        "\n",
        "death_df = death_df[is_dead]\n",
        "death_df['age'].mean()\n"
      ],
      "execution_count": 75,
      "outputs": [
        {
          "output_type": "execute_result",
          "data": {
            "text/plain": [
              "65.21528125"
            ]
          },
          "metadata": {
            "tags": []
          },
          "execution_count": 75
        }
      ]
    },
    {
      "cell_type": "code",
      "metadata": {
        "id": "PqwUTd-xAqqH",
        "outputId": "ed31adde-b38b-47cd-ab15-c15e538e5674",
        "colab": {
          "base_uri": "https://localhost:8080/"
        }
      },
      "source": [
        "df.dtypes\n"
      ],
      "execution_count": 76,
      "outputs": [
        {
          "output_type": "execute_result",
          "data": {
            "text/plain": [
              "age                         float64\n",
              "anaemia                       int64\n",
              "creatinine_phosphokinase      int64\n",
              "diabetes                      int64\n",
              "ejection_fraction             int64\n",
              "high_blood_pressure           int64\n",
              "platelets                   float64\n",
              "serum_creatinine            float64\n",
              "serum_sodium                  int64\n",
              "sex                           int64\n",
              "smoking                       int64\n",
              "time                          int64\n",
              "DEATH_EVENT                   int64\n",
              "dtype: object"
            ]
          },
          "metadata": {
            "tags": []
          },
          "execution_count": 76
        }
      ]
    },
    {
      "cell_type": "code",
      "metadata": {
        "id": "OuARTgFiErDF",
        "outputId": "8fe76f9b-bbb4-40d0-8e26-86bf0dd249d6",
        "colab": {
          "base_uri": "https://localhost:8080/"
        }
      },
      "source": [
        "women_df = df[['DEATH_EVENT', 'sex']]\n",
        "is_dead_women = (women_df['DEATH_EVENT'] == 1) & (women_df['sex'] == 0 )\n",
        "\n",
        "dead_women = women_df[is_dead_women]\n",
        "print(dead_women)\n",
        "print(f'\\nNumber of dead women: {len(dead_women.index)}')\n"
      ],
      "execution_count": 77,
      "outputs": [
        {
          "output_type": "stream",
          "text": [
            "     DEATH_EVENT  sex\n",
            "4              1    0\n",
            "8              1    0\n",
            "18             1    0\n",
            "19             1    0\n",
            "21             1    0\n",
            "24             1    0\n",
            "26             1    0\n",
            "32             1    0\n",
            "37             1    0\n",
            "39             1    0\n",
            "41             1    0\n",
            "44             1    0\n",
            "49             1    0\n",
            "51             1    0\n",
            "52             1    0\n",
            "53             1    0\n",
            "54             1    0\n",
            "61             1    0\n",
            "66             1    0\n",
            "68             1    0\n",
            "82             1    0\n",
            "84             1    0\n",
            "105            1    0\n",
            "113            1    0\n",
            "119            1    0\n",
            "126            1    0\n",
            "150            1    0\n",
            "163            1    0\n",
            "165            1    0\n",
            "186            1    0\n",
            "187            1    0\n",
            "213            1    0\n",
            "217            1    0\n",
            "230            1    0\n",
            "\n",
            "Number of dead women: 34\n"
          ],
          "name": "stdout"
        }
      ]
    },
    {
      "cell_type": "markdown",
      "metadata": {
        "id": "I44smGDkZPAa"
      },
      "source": [
        "## **NORMALIZER AND SPLITING**"
      ]
    },
    {
      "cell_type": "code",
      "metadata": {
        "id": "KBuwNHR5ROaC"
      },
      "source": [
        "# Function that divides the dataset\n",
        "from sklearn.model_selection import train_test_split \n",
        "\n",
        "# Splits 20% of the data for testing\n",
        "x_train, x_test, y_train, y_test = train_test_split(x, y,\n",
        "                                                    test_size=0.30,\n",
        "                                                    random_state=42)\n"
      ],
      "execution_count": 78,
      "outputs": []
    },
    {
      "cell_type": "code",
      "metadata": {
        "id": "RfvezG2INXWx",
        "outputId": "3edc3236-2f77-4246-b29c-b3223b78ab6b",
        "colab": {
          "base_uri": "https://localhost:8080/"
        }
      },
      "source": [
        "from sklearn.preprocessing import MinMaxScaler\n",
        "\n",
        "normalize = MinMaxScaler() # Normalizes the data\n",
        "x_train = normalize.fit_transform(x_train)\n",
        "x_test = normalize.fit_transform(x_test)\n",
        "\n",
        "print(f'''\n",
        "X_train:\n",
        "{x_train}\n",
        "\n",
        "{\"-\" * 50}\n",
        "{\"-\" * 50}\n",
        "\n",
        "X_test:\n",
        "{x_test}\n",
        "''')"
      ],
      "execution_count": 79,
      "outputs": [
        {
          "output_type": "stream",
          "text": [
            "\n",
            "X_train:\n",
            "[[0.32727273 0.         0.07131921 ... 1.         0.         0.71530249]\n",
            " [0.54545455 0.         0.01760653 ... 0.         0.         0.22064057]\n",
            " [0.03636364 1.         0.00803776 ... 1.         1.         0.70106762]\n",
            " ...\n",
            " [0.27272727 0.         0.09249809 ... 1.         0.         0.29893238]\n",
            " [0.07272727 0.         0.07131921 ... 1.         1.         0.85409253]\n",
            " [0.72727273 0.         0.11163562 ... 1.         1.         0.29537367]]\n",
            "\n",
            "--------------------------------------------------\n",
            "--------------------------------------------------\n",
            "\n",
            "X_test:\n",
            "[[0.55555556 0.         0.06988896 ... 1.         1.         0.8962963 ]\n",
            " [0.18518519 1.         0.03278903 ... 1.         1.         0.85925926]\n",
            " [0.09259259 0.         0.31286741 ... 1.         0.         0.44814815]\n",
            " ...\n",
            " [0.77777778 1.         0.04337035 ... 1.         0.         0.01851852]\n",
            " [0.64814815 1.         0.00444154 ... 1.         1.         0.00740741]\n",
            " [0.18518519 0.         0.02651862 ... 1.         1.         0.41481481]]\n",
            "\n"
          ],
          "name": "stdout"
        }
      ]
    },
    {
      "cell_type": "markdown",
      "metadata": {
        "id": "q55zOpu5YnZp"
      },
      "source": [
        "## **KNN**"
      ]
    },
    {
      "cell_type": "code",
      "metadata": {
        "id": "wvRKgEHuSyZc",
        "outputId": "9529dabe-3329-4553-a4b3-5b43e06f3376",
        "colab": {
          "base_uri": "https://localhost:8080/"
        }
      },
      "source": [
        "from sklearn.neighbors import KNeighborsClassifier\n",
        "\n",
        "clf_KNN = KNeighborsClassifier(n_neighbors=5)\n",
        "clf_KNN.fit(x_train, y_train)  #  Actually applies the classification\n",
        "\n",
        "print(clf_KNN)"
      ],
      "execution_count": 80,
      "outputs": [
        {
          "output_type": "stream",
          "text": [
            "KNeighborsClassifier(algorithm='auto', leaf_size=30, metric='minkowski',\n",
            "                     metric_params=None, n_jobs=None, n_neighbors=5, p=2,\n",
            "                     weights='uniform')\n"
          ],
          "name": "stdout"
        }
      ]
    },
    {
      "cell_type": "code",
      "metadata": {
        "id": "PAGylHP0XOqc",
        "outputId": "efdcd5ef-dfc7-412f-cfe2-82eda75d87c6",
        "colab": {
          "base_uri": "https://localhost:8080/"
        }
      },
      "source": [
        "y_pred = clf_KNN.predict(x_test)\n",
        "print(y_pred)"
      ],
      "execution_count": 81,
      "outputs": [
        {
          "output_type": "stream",
          "text": [
            "[0 0 0 0 0 0 1 0 0 0 0 0 0 0 0 0 0 0 0 0 0 0 0 0 0 0 0 1 0 0 0 0 0 0 0 0 0\n",
            " 0 0 0 0 0 1 0 0 0 0 0 0 0 0 0 0 0 0 0 0 0 0 0 1 0 0 0 0 0 0 0 0 0 0 0 0 0\n",
            " 1 0 0 0 0 0 0 0 0 0 0 0 0 1 0 0]\n"
          ],
          "name": "stdout"
        }
      ]
    },
    {
      "cell_type": "code",
      "metadata": {
        "id": "CcNkQE4XXiao",
        "outputId": "664fbdd1-fdb6-45af-f538-bbacb987a12b",
        "colab": {
          "base_uri": "https://localhost:8080/"
        }
      },
      "source": [
        "from sklearn.metrics import classification_report, confusion_matrix\n",
        "\n",
        "# Builds the confunsion matrix to compare with the created model\n",
        "print(confusion_matrix(y_test, y_pred))\n",
        "print(classification_report(y_test, y_pred))"
      ],
      "execution_count": 82,
      "outputs": [
        {
          "output_type": "stream",
          "text": [
            "[[50  3]\n",
            " [34  3]]\n",
            "              precision    recall  f1-score   support\n",
            "\n",
            "           0       0.60      0.94      0.73        53\n",
            "           1       0.50      0.08      0.14        37\n",
            "\n",
            "    accuracy                           0.59        90\n",
            "   macro avg       0.55      0.51      0.43        90\n",
            "weighted avg       0.56      0.59      0.49        90\n",
            "\n"
          ],
          "name": "stdout"
        }
      ]
    },
    {
      "cell_type": "markdown",
      "metadata": {
        "id": "BBHQY9OkaN0-"
      },
      "source": [
        "## **DECISION TREE**"
      ]
    },
    {
      "cell_type": "code",
      "metadata": {
        "id": "saO0TERkbxed",
        "outputId": "5de4f5ba-f2b4-48fc-f451-f3f852f57e45",
        "colab": {
          "base_uri": "https://localhost:8080/"
        }
      },
      "source": [
        "from sklearn.tree import DecisionTreeClassifier\n",
        "\n",
        "clf_tree = DecisionTreeClassifier(random_state=1)\n",
        "clf_tree.fit(x_train, y_train)\n"
      ],
      "execution_count": 83,
      "outputs": [
        {
          "output_type": "execute_result",
          "data": {
            "text/plain": [
              "DecisionTreeClassifier(ccp_alpha=0.0, class_weight=None, criterion='gini',\n",
              "                       max_depth=None, max_features=None, max_leaf_nodes=None,\n",
              "                       min_impurity_decrease=0.0, min_impurity_split=None,\n",
              "                       min_samples_leaf=1, min_samples_split=2,\n",
              "                       min_weight_fraction_leaf=0.0, presort='deprecated',\n",
              "                       random_state=1, splitter='best')"
            ]
          },
          "metadata": {
            "tags": []
          },
          "execution_count": 83
        }
      ]
    },
    {
      "cell_type": "code",
      "metadata": {
        "id": "naCOtLqxcMlk",
        "outputId": "f08a6a3f-99b2-4c6b-ba3f-ade05c48fcd2",
        "colab": {
          "base_uri": "https://localhost:8080/"
        }
      },
      "source": [
        "y_pred = clf_tree.predict(x_test)\n",
        "print(y_pred)"
      ],
      "execution_count": 84,
      "outputs": [
        {
          "output_type": "stream",
          "text": [
            "[0 0 0 0 0 0 0 1 0 0 0 0 0 0 0 1 0 0 1 1 0 0 0 1 0 0 0 0 0 0 1 0 1 1 0 0 0\n",
            " 0 0 0 0 0 0 0 1 0 1 0 0 0 0 0 0 0 0 0 0 1 0 1 1 0 0 0 0 1 0 1 0 0 0 0 0 0\n",
            " 1 0 0 1 0 0 0 0 0 0 0 0 1 0 0 0]\n"
          ],
          "name": "stdout"
        }
      ]
    },
    {
      "cell_type": "code",
      "metadata": {
        "id": "e6TlxG4lcZ9o",
        "outputId": "b60ae7aa-23e3-414e-cf6d-83b5a2e8066b",
        "colab": {
          "base_uri": "https://localhost:8080/"
        }
      },
      "source": [
        "from sklearn.metrics import classification_report, confusion_matrix\n",
        "\n",
        "# Builds the confunsion matrix to compare with the created model\n",
        "print(confusion_matrix(y_test, y_pred))\n",
        "print(classification_report(y_test, y_pred))"
      ],
      "execution_count": 85,
      "outputs": [
        {
          "output_type": "stream",
          "text": [
            "[[47  6]\n",
            " [25 12]]\n",
            "              precision    recall  f1-score   support\n",
            "\n",
            "           0       0.65      0.89      0.75        53\n",
            "           1       0.67      0.32      0.44        37\n",
            "\n",
            "    accuracy                           0.66        90\n",
            "   macro avg       0.66      0.61      0.59        90\n",
            "weighted avg       0.66      0.66      0.62        90\n",
            "\n"
          ],
          "name": "stdout"
        }
      ]
    },
    {
      "cell_type": "markdown",
      "metadata": {
        "id": "4alwx_fxdtJW"
      },
      "source": [
        "## **MLP**"
      ]
    },
    {
      "cell_type": "code",
      "metadata": {
        "id": "46dyQDkxdx3u",
        "outputId": "6da9d007-87a6-487c-f2da-43d58ca54025",
        "colab": {
          "base_uri": "https://localhost:8080/"
        }
      },
      "source": [
        "from sklearn.neural_network import MLPClassifier\n",
        "\n",
        "clf_mlp = MLPClassifier(solver='lbfgs', alpha=1e-5,\n",
        "                        hidden_layer_sizes=(5,10), random_state=1)\n",
        "\n",
        "clf_mlp.fit(x_train, y_train)"
      ],
      "execution_count": 86,
      "outputs": [
        {
          "output_type": "execute_result",
          "data": {
            "text/plain": [
              "MLPClassifier(activation='relu', alpha=1e-05, batch_size='auto', beta_1=0.9,\n",
              "              beta_2=0.999, early_stopping=False, epsilon=1e-08,\n",
              "              hidden_layer_sizes=(5, 10), learning_rate='constant',\n",
              "              learning_rate_init=0.001, max_fun=15000, max_iter=200,\n",
              "              momentum=0.9, n_iter_no_change=10, nesterovs_momentum=True,\n",
              "              power_t=0.5, random_state=1, shuffle=True, solver='lbfgs',\n",
              "              tol=0.0001, validation_fraction=0.1, verbose=False,\n",
              "              warm_start=False)"
            ]
          },
          "metadata": {
            "tags": []
          },
          "execution_count": 86
        }
      ]
    },
    {
      "cell_type": "code",
      "metadata": {
        "id": "J02RoS_s9GQS",
        "outputId": "10f658b8-bf68-4ec9-ceab-9ef5c299dc18",
        "colab": {
          "base_uri": "https://localhost:8080/"
        }
      },
      "source": [
        "y_pred = clf_mlp.predict(x_test)\n",
        "y_pred"
      ],
      "execution_count": 88,
      "outputs": [
        {
          "output_type": "execute_result",
          "data": {
            "text/plain": [
              "array([0, 0, 0, 1, 0, 0, 0, 0, 1, 0, 0, 0, 0, 0, 0, 0, 0, 0, 0, 0, 0, 0,\n",
              "       0, 1, 0, 0, 0, 0, 0, 0, 1, 0, 0, 0, 0, 0, 0, 0, 0, 0, 0, 0, 0, 0,\n",
              "       0, 0, 0, 0, 0, 0, 0, 0, 0, 0, 0, 0, 0, 0, 0, 0, 1, 0, 0, 0, 0, 0,\n",
              "       0, 0, 0, 0, 0, 0, 0, 0, 0, 0, 0, 0, 0, 0, 0, 0, 0, 0, 0, 0, 1, 0,\n",
              "       1, 0])"
            ]
          },
          "metadata": {
            "tags": []
          },
          "execution_count": 88
        }
      ]
    },
    {
      "cell_type": "code",
      "metadata": {
        "id": "CmP4Gs2m9y7t",
        "outputId": "2c7ef65e-4570-4b3c-ab15-9736554cd108",
        "colab": {
          "base_uri": "https://localhost:8080/"
        }
      },
      "source": [
        "from sklearn.metrics import classification_report, confusion_matrix\n",
        "\n",
        "print(confusion_matrix(y_test, y_pred))\n",
        "print(classification_report(y_test, y_pred))\n"
      ],
      "execution_count": 89,
      "outputs": [
        {
          "output_type": "stream",
          "text": [
            "[[53  0]\n",
            " [30  7]]\n",
            "              precision    recall  f1-score   support\n",
            "\n",
            "           0       0.64      1.00      0.78        53\n",
            "           1       1.00      0.19      0.32        37\n",
            "\n",
            "    accuracy                           0.67        90\n",
            "   macro avg       0.82      0.59      0.55        90\n",
            "weighted avg       0.79      0.67      0.59        90\n",
            "\n"
          ],
          "name": "stdout"
        }
      ]
    },
    {
      "cell_type": "markdown",
      "metadata": {
        "id": "LAUpOJug-ynN"
      },
      "source": [
        "# **THREADING**\n"
      ]
    },
    {
      "cell_type": "code",
      "metadata": {
        "id": "uuWmNNkc-7H_"
      },
      "source": [
        "def counter():\n",
        "    x = 1000000000\n",
        "    while x != 0:\n",
        "        x -= 1"
      ],
      "execution_count": 103,
      "outputs": []
    },
    {
      "cell_type": "code",
      "metadata": {
        "id": "1JnH7MEh_VBC"
      },
      "source": [
        "def sequencial_call():\n",
        "    counter()\n",
        "    counter()"
      ],
      "execution_count": 93,
      "outputs": []
    },
    {
      "cell_type": "code",
      "metadata": {
        "id": "AjZa4lJE_Z31"
      },
      "source": [
        "import threading\n",
        "\n",
        "def threading_call():\n",
        "    thread_1 = threading.Thread(target=counter)\n",
        "    thread_2 = threading.Thread(target=counter)"
      ],
      "execution_count": 98,
      "outputs": []
    },
    {
      "cell_type": "markdown",
      "metadata": {
        "id": "GlzMvwRADYFa"
      },
      "source": [
        "## **COMPARISON**"
      ]
    },
    {
      "cell_type": "code",
      "metadata": {
        "id": "ykGTo87F_xWm",
        "outputId": "0d837dd6-62f4-4d1a-d117-0d2413d45439",
        "colab": {
          "base_uri": "https://localhost:8080/"
        }
      },
      "source": [
        "import time\n",
        "\n",
        "start = time.time()\n",
        "sequencial_call()\n",
        "stop = time.time()\n",
        "\n",
        "total_time = stop - start\n",
        "print(total_time)"
      ],
      "execution_count": 106,
      "outputs": [
        {
          "output_type": "stream",
          "text": [
            "108.60821151733398\n"
          ],
          "name": "stdout"
        }
      ]
    },
    {
      "cell_type": "code",
      "metadata": {
        "id": "9D72XtfrBAbH",
        "outputId": "a22f835f-cb5b-41f9-81bb-721749a67466",
        "colab": {
          "base_uri": "https://localhost:8080/"
        }
      },
      "source": [
        "import time\n",
        "\n",
        "start = time.time()\n",
        "threading_call()\n",
        "stop = time.time()\n",
        "\n",
        "total_time = stop - start\n",
        "print(total_time)"
      ],
      "execution_count": 158,
      "outputs": [
        {
          "output_type": "stream",
          "text": [
            "7.319450378417969e-05\n"
          ],
          "name": "stdout"
        }
      ]
    },
    {
      "cell_type": "markdown",
      "metadata": {
        "id": "6GE8dmitDR0o"
      },
      "source": [
        "## **SLEEPY THREADING**"
      ]
    },
    {
      "cell_type": "code",
      "metadata": {
        "id": "PAFVG3K6Copp"
      },
      "source": [
        "import time\n",
        "from random import randint\n",
        "\n",
        "def sleepy_counter():\n",
        "    x = 1000000000\n",
        "    time.sleep(100000000)\n",
        "    while x != 0:\n",
        "        x - 1\n"
      ],
      "execution_count": 159,
      "outputs": []
    },
    {
      "cell_type": "code",
      "metadata": {
        "id": "1KH6ivmXCcsk"
      },
      "source": [
        "import threading\n",
        "\n",
        "def sleepy_call():\n",
        "    thread_1 = threading.Thread(target=sleepy_counter)\n",
        "    thread_2 = threading.Thread(target=sleepy_counter)\n",
        "    "
      ],
      "execution_count": 136,
      "outputs": []
    },
    {
      "cell_type": "code",
      "metadata": {
        "id": "RdBfQhM1DFVZ",
        "outputId": "5485b200-9bf7-45be-eb33-272ce70746fc",
        "colab": {
          "base_uri": "https://localhost:8080/"
        }
      },
      "source": [
        "import time\n",
        "\n",
        "start = time.time()\n",
        "sleepy_call()\n",
        "stop = time.time()\n",
        "total_time = stop - start\n",
        "\n",
        "print(total_time)"
      ],
      "execution_count": 161,
      "outputs": [
        {
          "output_type": "stream",
          "text": [
            "0.00010561943054199219\n"
          ],
          "name": "stdout"
        }
      ]
    }
  ]
}
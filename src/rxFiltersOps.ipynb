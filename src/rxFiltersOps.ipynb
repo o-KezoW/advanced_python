{
  "nbformat": 4,
  "nbformat_minor": 0,
  "metadata": {
    "colab": {
      "name": "rxFiltersOps.ipynb",
      "provenance": []
    },
    "kernelspec": {
      "name": "python3",
      "display_name": "Python 3"
    }
  },
  "cells": [
    {
      "cell_type": "code",
      "metadata": {
        "id": "XP_3Pn33FHNW",
        "outputId": "5775701d-88fc-441f-b53d-71486fb6245c",
        "colab": {
          "base_uri": "https://localhost:8080/"
        }
      },
      "source": [
        "!pip install rx"
      ],
      "execution_count": 41,
      "outputs": [
        {
          "output_type": "stream",
          "text": [
            "Collecting rx\n",
            "\u001b[?25l  Downloading https://files.pythonhosted.org/packages/90/6c/5f1839d9ae2a8c85d119c51acaff1f1382f68691cb0f1cb3d0c9fdd32a93/Rx-3.1.1-py3-none-any.whl (197kB)\n",
            "\r\u001b[K     |█▋                              | 10kB 15.9MB/s eta 0:00:01\r\u001b[K     |███▎                            | 20kB 21.7MB/s eta 0:00:01\r\u001b[K     |█████                           | 30kB 10.7MB/s eta 0:00:01\r\u001b[K     |██████▋                         | 40kB 8.7MB/s eta 0:00:01\r\u001b[K     |████████▎                       | 51kB 4.3MB/s eta 0:00:01\r\u001b[K     |██████████                      | 61kB 4.5MB/s eta 0:00:01\r\u001b[K     |███████████▋                    | 71kB 4.7MB/s eta 0:00:01\r\u001b[K     |█████████████▎                  | 81kB 5.1MB/s eta 0:00:01\r\u001b[K     |███████████████                 | 92kB 5.4MB/s eta 0:00:01\r\u001b[K     |████████████████▋               | 102kB 5.7MB/s eta 0:00:01\r\u001b[K     |██████████████████▎             | 112kB 5.7MB/s eta 0:00:01\r\u001b[K     |████████████████████            | 122kB 5.7MB/s eta 0:00:01\r\u001b[K     |█████████████████████▋          | 133kB 5.7MB/s eta 0:00:01\r\u001b[K     |███████████████████████▎        | 143kB 5.7MB/s eta 0:00:01\r\u001b[K     |█████████████████████████       | 153kB 5.7MB/s eta 0:00:01\r\u001b[K     |██████████████████████████▋     | 163kB 5.7MB/s eta 0:00:01\r\u001b[K     |████████████████████████████▎   | 174kB 5.7MB/s eta 0:00:01\r\u001b[K     |██████████████████████████████  | 184kB 5.7MB/s eta 0:00:01\r\u001b[K     |███████████████████████████████▋| 194kB 5.7MB/s eta 0:00:01\r\u001b[K     |████████████████████████████████| 204kB 5.7MB/s \n",
            "\u001b[?25hInstalling collected packages: rx\n",
            "Successfully installed rx-3.1.1\n"
          ],
          "name": "stdout"
        }
      ]
    },
    {
      "cell_type": "code",
      "metadata": {
        "id": "Eo996fPbGabT"
      },
      "source": [
        "import rx\n",
        "import rx.operators"
      ],
      "execution_count": 47,
      "outputs": []
    },
    {
      "cell_type": "markdown",
      "metadata": {
        "id": "qSKpKhoQLzUr"
      },
      "source": [
        "## **OPERATORS**"
      ]
    },
    {
      "cell_type": "code",
      "metadata": {
        "id": "HBf2caeQGcDW",
        "outputId": "f3164efa-9531-462b-a6d8-1530be557b71",
        "colab": {
          "base_uri": "https://localhost:8080/"
        }
      },
      "source": [
        "rx.of(\"LOREM\", \"IPSUM\", \"DOLOR\", \"SIT\", \"AMET\").pipe(\n",
        "    rx.operators.map(lambda a: len(a)),  # Gets the len from the rx.of\n",
        "    rx.operators.filter(lambda c: c >= 5)   # Applies a filter\n",
        ").subscribe(\n",
        "    lambda value: print(f'Received: {value}')  \n",
        ")  # Displays the values that rx.operators.filter (condition) got True\n"
      ],
      "execution_count": 48,
      "outputs": [
        {
          "output_type": "stream",
          "text": [
            "Received: 5\n",
            "Received: 5\n",
            "Received: 5\n"
          ],
          "name": "stdout"
        },
        {
          "output_type": "execute_result",
          "data": {
            "text/plain": [
              "<rx.disposable.disposable.Disposable at 0x7ff2c73be5f8>"
            ]
          },
          "metadata": {
            "tags": []
          },
          "execution_count": 48
        }
      ]
    },
    {
      "cell_type": "markdown",
      "metadata": {
        "id": "fVROcF1GL38W"
      },
      "source": [
        "## **OPERATORS IN CHAIN**"
      ]
    },
    {
      "cell_type": "code",
      "metadata": {
        "id": "ib8oqrdmMTEG",
        "outputId": "5a558aba-fd06-43d5-80cc-7bd744f3646c",
        "colab": {
          "base_uri": "https://localhost:8080/"
        }
      },
      "source": [
        "# Defs our observable\n",
        "source = rx.of(\"But\", \"if\", \"you\", \"close\", \"your\", \"eyes\")\n",
        "\n",
        "# Our operations pipeline\n",
        "composed = source.pipe(\n",
        "    rx.operators.map(lambda a: len(a)),\n",
        "    rx.operators.filter(lambda c: c >= 5)\n",
        ")\n",
        "composed.subscribe(\n",
        "    lambda value: print(f\"Received: {value}\")\n",
        ")"
      ],
      "execution_count": 49,
      "outputs": [
        {
          "output_type": "stream",
          "text": [
            "Received: 5\n"
          ],
          "name": "stdout"
        },
        {
          "output_type": "execute_result",
          "data": {
            "text/plain": [
              "<rx.disposable.disposable.Disposable at 0x7ff2c73bebe0>"
            ]
          },
          "metadata": {
            "tags": []
          },
          "execution_count": 49
        }
      ]
    },
    {
      "cell_type": "markdown",
      "metadata": {
        "id": "ws9O7PoYt7uF"
      },
      "source": [
        "## **BUILDiNG OUR OWN OPERATORS**"
      ]
    },
    {
      "cell_type": "code",
      "metadata": {
        "id": "1ygwwSPct_h1",
        "outputId": "f4e8c632-8a2a-4a7a-f98f-50645431795d",
        "colab": {
          "base_uri": "https://localhost:8080/"
        }
      },
      "source": [
        "def length_gte5():\n",
        "    return rx.pipe(\n",
        "        rx.operators.map(lambda a: len(a)),\n",
        "        rx.operators.filter(lambda c: c >= 5)\n",
        "    )\n",
        "\n",
        "rx.of(\"Never\", \"gonna\", \"give\", \"you\", \"up\").pipe(\n",
        "    length_gte5()\n",
        ").subscribe(\n",
        "    lambda v: print(f\"Received: {v}\")\n",
        ")"
      ],
      "execution_count": 50,
      "outputs": [
        {
          "output_type": "stream",
          "text": [
            "Received: 5\n",
            "Received: 5\n"
          ],
          "name": "stdout"
        },
        {
          "output_type": "execute_result",
          "data": {
            "text/plain": [
              "<rx.disposable.disposable.Disposable at 0x7ff2c73c9080>"
            ]
          },
          "metadata": {
            "tags": []
          },
          "execution_count": 50
        }
      ]
    },
    {
      "cell_type": "markdown",
      "metadata": {
        "id": "WHZn3EI1ymq6"
      },
      "source": [
        "### **SEQUENTIAL OPERATIONS**"
      ]
    },
    {
      "cell_type": "code",
      "metadata": {
        "id": "PZYnOSG2yUkw",
        "outputId": "6a953d48-300e-46b1-f2bb-6619af418a62",
        "colab": {
          "base_uri": "https://localhost:8080/"
        }
      },
      "source": [
        "# Defs our observable\n",
        "source = rx.of(\"Hey\", \"Vsauce, \", \"Michael\", \"here\")\n",
        "\n",
        "def lowercase():\n",
        "    def _lowercase(source):\n",
        "        def subscribe(observer, scheduler=None):\n",
        "            def on_next(value):\n",
        "                observer.on_next(value.lower())\n",
        "            return source.subscribe(\n",
        "                on_next,\n",
        "                observer.on_error,\n",
        "                observer.on_completed,\n",
        "                scheduler\n",
        "            )\n",
        "        return rx.create(subscribe)\n",
        "    return _lowercase\n",
        "\n",
        "\n",
        "source.pipe(\n",
        "    lowercase()\n",
        ").subscribe(\n",
        "    lambda v: print(f\"Received: {v}\")\n",
        ")"
      ],
      "execution_count": 86,
      "outputs": [
        {
          "output_type": "stream",
          "text": [
            "Received: hey\n",
            "Received: vsauce, \n",
            "Received: michael\n",
            "Received: here\n"
          ],
          "name": "stdout"
        },
        {
          "output_type": "execute_result",
          "data": {
            "text/plain": [
              "<rx.disposable.disposable.Disposable at 0x7ff2cf8d4160>"
            ]
          },
          "metadata": {
            "tags": []
          },
          "execution_count": 86
        }
      ]
    }
  ]
}
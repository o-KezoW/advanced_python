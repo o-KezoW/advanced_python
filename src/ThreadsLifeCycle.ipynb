{
  "nbformat": 4,
  "nbformat_minor": 0,
  "metadata": {
    "colab": {
      "name": "ThreadsLifeCycle.ipynb",
      "provenance": [],
      "collapsed_sections": []
    },
    "kernelspec": {
      "name": "python3",
      "display_name": "Python 3"
    }
  },
  "cells": [
    {
      "cell_type": "markdown",
      "metadata": {
        "id": "G3nAO_AVJxE_"
      },
      "source": [
        "# **THREAD THAT RUNS TARGETING A FUNCTION**"
      ]
    },
    {
      "cell_type": "code",
      "metadata": {
        "id": "fJsSFqs6WUO2",
        "outputId": "593c444b-6204-4f31-f4c5-db9a74633a88",
        "colab": {
          "base_uri": "https://localhost:8080/"
        }
      },
      "source": [
        "import threading\n",
        "import time\n",
        "\n",
        "\n",
        "# Function that prints an execution message\n",
        "def thread_worker():\n",
        "    def print_state(thread_state):\n",
        "        return f'The thread is in the \"{thread_state}\" state'\n",
        "\n",
        "    # Here it changes from \"runnable\" to \"running\"\n",
        "    print(print_state('running'))\n",
        "\n",
        "    # When we call time.sleep() the thread enters in a  \"not-running\" state\n",
        "    print(print_state('not-running'))\n",
        "    time.sleep(10)\n",
        "\n",
        "    # When the task is done the thread is terminated\n",
        "    print(print_state('terminated'))\n",
        "    # Garbage collector\n",
        "\n",
        "\n",
        "# In this moment the threads does not have a state\n",
        "# since no resources were allocated.\n",
        "my_thread = threading.Thread(target=thread_worker)\n",
        "\n",
        "# When we use \"my_thread.start()\" python allocates all resources\n",
        "# and the thread state goes from \"start\" to \"runnable\"\n",
        "my_thread.start()\n",
        "\n",
        "# When the \"my_thread.join()\" method is called the thread\n",
        "# goes from \"running\" state to \"terminated\" state\n",
        "my_thread.join()\n"
      ],
      "execution_count": null,
      "outputs": [
        {
          "output_type": "stream",
          "text": [
            "The thread is in the \"running\" state\n",
            "The thread is in the \"not-running\" state\n",
            "The thread is in the \"terminated\" state\n"
          ],
          "name": "stdout"
        }
      ]
    },
    {
      "cell_type": "markdown",
      "metadata": {
        "id": "DHbXa1UgJ5kL"
      },
      "source": [
        "# **__THREAD THAT RUNS TARGETING A CLASS__**"
      ]
    },
    {
      "cell_type": "code",
      "metadata": {
        "id": "7IK3ZbAcKCyI",
        "outputId": "b03a192c-6acd-4ba9-a321-b88d54cec8b3",
        "colab": {
          "base_uri": "https://localhost:8080/"
        }
      },
      "source": [
        "from threading import Thread\n",
        "\n",
        "\n",
        "# Defines the son class of the class \"Thread\"\"\"\n",
        "class MyThreadingClass(Thread):\n",
        "    def __init__(self):\n",
        "        Thread.__init__(self)\n",
        "\n",
        "    # Defines the \"run\" function that is called when you use \"thread.start()\"\n",
        "    def run(self):\n",
        "        print('The thread is running')\n",
        "\n",
        "\n",
        "my_thread = MyThreadingClass()\n",
        "print('Created the object')\n",
        "my_thread.start()\n",
        "print('Initialized the thread')\n",
        "my_thread.join()\n",
        "print('Terminated the thread')"
      ],
      "execution_count": null,
      "outputs": [
        {
          "output_type": "stream",
          "text": [
            "Created the object\n",
            "The thread is running\n",
            "Initialized the thread\n",
            "Terminated the thread\n"
          ],
          "name": "stdout"
        }
      ]
    },
    {
      "cell_type": "code",
      "metadata": {
        "id": "yqNtun9XST7X",
        "outputId": "b4df41af-3e16-42a4-fee6-e9ffc32d606c",
        "colab": {
          "base_uri": "https://localhost:8080/"
        }
      },
      "source": [
        "import threading\n",
        "import time\n",
        "\n",
        "class MyThreadingClass(threading.Thread):\n",
        "    def __init__(self, thread_id, thread_name, counter):\n",
        "        threading.Thread.__init__(self)\n",
        "        self.thread_id = thread_id\n",
        "        self.thread_name = thread_name\n",
        "        self.counter = counter\n",
        "\n",
        "    def run(self):\n",
        "        print(f'Initializing thread \"{self.name}\" with {self.counter} tasks')\n",
        "        task(self.thread_name, self.counter)\n",
        "        print(f'Terminating \"{self.name}\"')\n",
        "\n",
        "\n",
        "def task(name, counter):\n",
        "    for count in range(1, counter+1):\n",
        "        print(f'Thread \"{name}\" is doing the {count}° task')\n",
        "\n",
        "\n",
        "# Creating threads\n",
        "thread_1, thread_2 = (\n",
        "    MyThreadingClass(1, 'Nathan', 8),\n",
        "    MyThreadingClass(2, 'Lucas', 8)\n",
        ")\n",
        "\n",
        "# Starting new_threads\n",
        "thread_1.start(), thread_2.start()\n",
        "\n",
        "threads = []\n",
        "threads.extend((thread_1, thread_2))\n",
        "\n",
        "for active_thread in threads:\n",
        "    running_threads.join()\n",
        "\n",
        "time.sleep(2.5)\n",
        "print('Everything was done ok.')\n"
      ],
      "execution_count": null,
      "outputs": [
        {
          "output_type": "stream",
          "text": [
            "Initializing thread \"Thread-153\" with 8 tasks\n",
            "Thread \"Nathan\" is doing the 1° task\n",
            "Thread \"Nathan\" is doing the 2° task\n",
            "Thread \"Nathan\" is doing the 3° task\n",
            "Thread \"Nathan\" is doing the 4° task\n",
            "Thread \"Nathan\" is doing the 5° task\n",
            "Thread \"Nathan\" is doing the 6° task\n",
            "Thread \"Nathan\" is doing the 7° task\n",
            "Thread \"Nathan\" is doing the 8° task\n",
            "Terminating \"Thread-153\"\n",
            "Initializing thread \"Thread-154\" with 8 tasks\n",
            "Thread \"Lucas\" is doing the 1° task\n",
            "Thread \"Lucas\" is doing the 2° task\n",
            "Thread \"Lucas\" is doing the 3° task\n",
            "Thread \"Lucas\" is doing the 4° task\n",
            "Thread \"Lucas\" is doing the 5° task\n",
            "Thread \"Lucas\" is doing the 6° task\n",
            "Thread \"Lucas\" is doing the 7° task\n",
            "Thread \"Lucas\" is doing the 8° task\n",
            "Terminating \"Thread-154\"\n",
            "Everything was done ok.\n"
          ],
          "name": "stdout"
        }
      ]
    },
    {
      "cell_type": "markdown",
      "metadata": {
        "id": "OIghiCLBtFKN"
      },
      "source": [
        "# **ACTIVE THREADS COUNTER**"
      ]
    },
    {
      "cell_type": "code",
      "metadata": {
        "id": "H3xDT2y0pJO1",
        "outputId": "2ce6b843-af1d-4830-8578-cbc6eab929e6",
        "colab": {
          "base_uri": "https://localhost:8080/"
        }
      },
      "source": [
        "import time\n",
        "import threading\n",
        "from random import randint\n",
        "\n",
        "\n",
        "def my_thread(thread):\n",
        "    print(f'The thread \"{thread}\" was initialized')\n",
        "    time.sleep(randint(1, 5))\n",
        "    print(f'The thread \"{thread}\" was terminated')\n",
        "\n",
        "\n",
        "for threads_starter in range(randint(1, 50)):\n",
        "    thread = threading.Thread(target=my_thread, args=((threads_starter,)))\n",
        "    thread.start()\n",
        "\n",
        "time.sleep(5)\n",
        "print(f'Total active threads: {threading.active_count()}')\n"
      ],
      "execution_count": null,
      "outputs": [
        {
          "output_type": "stream",
          "text": [
            "The thread \"0\" was initialized\n",
            "The thread \"1\" was initialized\n",
            "The thread \"2\" was initialized\n",
            "The thread \"3\" was initialized\n",
            "The thread \"4\" was initialized\n",
            "The thread \"5\" was initializedThe thread \"6\" was initialized\n",
            "\n",
            "The thread \"7\" was initialized\n",
            "The thread \"8\" was initialized\n",
            "The thread \"9\" was initialized\n",
            "The thread \"10\" was initialized\n",
            "The thread \"11\" was initialized\n",
            "The thread \"12\" was initialized\n",
            "The thread \"13\" was initialized\n",
            "The thread \"14\" was initialized\n",
            "The thread \"15\" was initialized\n",
            "The thread \"16\" was initialized\n",
            "The thread \"17\" was initialized\n",
            "The thread \"18\" was initializedThe thread \"19\" was initialized\n",
            "\n",
            "The thread \"6\" was terminated\n",
            "The thread \"9\" was terminated\n",
            "The thread \"10\" was terminated\n",
            "The thread \"15\" was terminated\n",
            "The thread \"19\" was terminated\n",
            "The thread \"5\" was terminated\n",
            "The thread \"14\" was terminated\n",
            "The thread \"12\" was terminated\n",
            "The thread \"11\" was terminatedThe thread \"16\" was terminated\n",
            "\n",
            "The thread \"3\" was terminated\n",
            "The thread \"7\" was terminated\n",
            "The thread \"8\" was terminated\n",
            "The thread \"18\" was terminated\n",
            "The thread \"0\" was terminated\n",
            "The thread \"2\" was terminated\n",
            "The thread \"1\" was terminated\n",
            "The thread \"4\" was terminated\n",
            "The thread \"13\" was terminated\n",
            "The thread \"17\" was terminated\n",
            "Total active threads: 4\n"
          ],
          "name": "stdout"
        }
      ]
    },
    {
      "cell_type": "code",
      "metadata": {
        "id": "JOVufNMgqMUJ",
        "outputId": "aad79028-9034-4f94-89d5-d5d4e6e2b9d0",
        "colab": {
          "base_uri": "https://localhost:8080/"
        }
      },
      "source": [
        "import threading\n",
        "import time\n",
        "\n",
        "threads = []\n",
        "\n",
        "def target_thread():\n",
        "    print(f'Current thread: {threading.current_thread()}')\n",
        "\n",
        "\n",
        "for threads_starter in range(10):\n",
        "    thread = threading.Thread(target=target_thread)\n",
        "    thread.start()\n",
        "    threads.append(thread)\n",
        "\n",
        "for active_thread in threads:\n",
        "    active_thread.join()\n"
      ],
      "execution_count": null,
      "outputs": [
        {
          "output_type": "stream",
          "text": [
            "Current thread: <Thread(Thread-155, started 140578626598656)>\n",
            "Current thread: <Thread(Thread-156, started 140578626598656)>\n",
            "Current thread: <Thread(Thread-157, started 140578651776768)>\n",
            "Current thread: <Thread(Thread-158, started 140578626598656)>\n",
            "Current thread: <Thread(Thread-159, started 140578626598656)>\n",
            "Current thread: <Thread(Thread-160, started 140578626598656)>Current thread: <Thread(Thread-161, started 140578651776768)>\n",
            "\n",
            "Current thread: <Thread(Thread-162, started 140578651776768)>\n",
            "Current thread: <Thread(Thread-163, started 140578626598656)>\n",
            "Current thread: <Thread(Thread-164, started 140578626598656)>\n"
          ],
          "name": "stdout"
        }
      ]
    },
    {
      "cell_type": "markdown",
      "metadata": {
        "id": "4IP7KgVV07gy"
      },
      "source": [
        "# **CHILD THREADS**"
      ]
    },
    {
      "cell_type": "code",
      "metadata": {
        "id": "mWlG8yC4uyEz",
        "outputId": "2a06956b-4e18-4c3b-b9db-254b6a6769a7",
        "colab": {
          "base_uri": "https://localhost:8080/"
        }
      },
      "source": [
        "import threading\n",
        "import time\n",
        "\n",
        "\n",
        "def my_child_thread():\n",
        "    print(f'The child thread got started{\"-\" * 22}')\n",
        "    time.sleep(0)\n",
        "    print(f'Current thread{\"-\" * 36}\\n'\n",
        "    f'{threading.current_thread()}\\n'\n",
        "    f'{\"-\" * 50}\\n'\n",
        "    f'Main thread{\"-\" * 39}\\n'\n",
        "    f'{threading.main_thread()}\\n'\n",
        "    f'{\"-\" * 50}\\n'\n",
        "    \"The child thread got terminated.\")\n",
        "\n",
        "\n",
        "child = threading.Thread(target=my_child_thread)\n",
        "child.start()\n",
        "child.join()\n"
      ],
      "execution_count": null,
      "outputs": [
        {
          "output_type": "stream",
          "text": [
            "The child thread got started----------------------\n",
            "Current thread------------------------------------\n",
            "<Thread(Thread-230, started 140578819630848)>\n",
            "--------------------------------------------------\n",
            "Main thread---------------------------------------\n",
            "<_MainThread(MainThread, started 140579548284800)>\n",
            "--------------------------------------------------\n",
            "The child thread got terminated.\n"
          ],
          "name": "stdout"
        }
      ]
    },
    {
      "cell_type": "markdown",
      "metadata": {
        "id": "3dRke4y82IvH"
      },
      "source": [
        "## **THREAD NAMES**"
      ]
    },
    {
      "cell_type": "code",
      "metadata": {
        "id": "aP9Qb9Cqxty4",
        "outputId": "804d3219-bf00-4d25-9044-20316102df50",
        "colab": {
          "base_uri": "https://localhost:8080/"
        }
      },
      "source": [
        "import threading\n",
        "import time\n",
        "from random import choice\n",
        "\n",
        "threads = []\n",
        "\n",
        "thread_names = ( \n",
        "    [\n",
        "        'Bob', 'Mary', 'Juan', 'Lucas', 'João',\n",
        "        'Thiago', 'Gabriel', 'Isabel', 'Kauã', 'Andrey'\n",
        "    ]\n",
        ")\n",
        "\n",
        "def my_thread():\n",
        "    print(f'The \"{threading.current_thread().getName()}\" thread was started')\n",
        "    time.sleep(1)\n",
        "    print(f'The \"{threading.current_thread().getName()}\" thread was terminated')\n",
        "\n",
        "\n",
        "for thread_starter in range(5):\n",
        "    thread_name = choice(thread_names)\n",
        "    thread_names.remove(thread_name)\n",
        "    \n",
        "    thread = threading.Thread(name=thread_name, target=my_thread)\n",
        "    threads.append(thread)\n",
        "    thread.start()\n",
        "\n",
        "print(threading.enumerate())\n",
        "\n",
        "for active_thread in threads:\n",
        "    active_thread.join()\n",
        "\n",
        "time.sleep(5)\n"
      ],
      "execution_count": 2,
      "outputs": [
        {
          "output_type": "stream",
          "text": [
            "The \"Thiago\" thread was started\n",
            "The \"Kauã\" thread was started\n",
            "The \"Mary\" thread was started\n",
            "The \"Isabel\" thread was started\n",
            "The \"Lucas\" thread was started\n",
            "[<_MainThread(MainThread, started 140647037556608)>, <Thread(Thread-2, started daemon 140646641673984)>, <Heartbeat(Thread-3, started daemon 140646633281280)>, <ParentPollerUnix(Thread-1, started daemon 140646569199360)>, <Thread(Thiago, started 140646526973696)>, <Thread(Kauã, started 140646543759104)>, <Thread(Mary, started 140646535366400)>, <Thread(Isabel, started 140646560544512)>, <Thread(Lucas, started 140646552151808)>]\n",
            "The \"Thiago\" thread was terminatedThe \"Kauã\" thread was terminated\n",
            "\n",
            "The \"Mary\" thread was terminated\n",
            "The \"Isabel\" thread was terminated\n",
            "The \"Lucas\" thread was terminated\n"
          ],
          "name": "stdout"
        }
      ]
    }
  ]
}
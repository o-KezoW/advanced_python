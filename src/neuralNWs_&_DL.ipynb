{
  "nbformat": 4,
  "nbformat_minor": 0,
  "metadata": {
    "colab": {
      "name": "neuralNWs_&_DL.ipynb",
      "provenance": []
    },
    "kernelspec": {
      "name": "python3",
      "display_name": "Python 3"
    }
  },
  "cells": [
    {
      "cell_type": "markdown",
      "metadata": {
        "id": "XT0B6-BPDuM8"
      },
      "source": [
        "# **DATASET**"
      ]
    },
    {
      "cell_type": "code",
      "metadata": {
        "id": "wj_awnFPuGLp"
      },
      "source": [
        "# Imports other libs\n",
        "from sklearn import neighbors, datasets\n",
        "import pandas as pd\n",
        "import numpy as np\n",
        "import matplotlib.pyplot as plt"
      ],
      "execution_count": 45,
      "outputs": []
    },
    {
      "cell_type": "code",
      "metadata": {
        "id": "JgC9kaWeDCUX"
      },
      "source": [
        "# Creates the routine to use the iris dataset\n",
        "iris = datasets.load_iris()"
      ],
      "execution_count": 46,
      "outputs": []
    },
    {
      "cell_type": "code",
      "metadata": {
        "id": "Rm4y_60QDG7o",
        "outputId": "5af748cf-6efe-4162-fc29-20a3d496ebf5",
        "colab": {
          "base_uri": "https://localhost:8080/",
          "height": 0
        }
      },
      "source": [
        "# Converts iris data into a dataframe\n",
        "df_iris = pd.DataFrame(np.c_[iris['data'], iris['target']],\n",
        "                       columns=iris['feature_names'] + ['targets'])\n",
        "\n",
        "# Display the iris dataframe head\n",
        "df_iris.head()"
      ],
      "execution_count": 47,
      "outputs": [
        {
          "output_type": "execute_result",
          "data": {
            "text/html": [
              "<div>\n",
              "<style scoped>\n",
              "    .dataframe tbody tr th:only-of-type {\n",
              "        vertical-align: middle;\n",
              "    }\n",
              "\n",
              "    .dataframe tbody tr th {\n",
              "        vertical-align: top;\n",
              "    }\n",
              "\n",
              "    .dataframe thead th {\n",
              "        text-align: right;\n",
              "    }\n",
              "</style>\n",
              "<table border=\"1\" class=\"dataframe\">\n",
              "  <thead>\n",
              "    <tr style=\"text-align: right;\">\n",
              "      <th></th>\n",
              "      <th>sepal length (cm)</th>\n",
              "      <th>sepal width (cm)</th>\n",
              "      <th>petal length (cm)</th>\n",
              "      <th>petal width (cm)</th>\n",
              "      <th>targets</th>\n",
              "    </tr>\n",
              "  </thead>\n",
              "  <tbody>\n",
              "    <tr>\n",
              "      <th>0</th>\n",
              "      <td>5.1</td>\n",
              "      <td>3.5</td>\n",
              "      <td>1.4</td>\n",
              "      <td>0.2</td>\n",
              "      <td>0.0</td>\n",
              "    </tr>\n",
              "    <tr>\n",
              "      <th>1</th>\n",
              "      <td>4.9</td>\n",
              "      <td>3.0</td>\n",
              "      <td>1.4</td>\n",
              "      <td>0.2</td>\n",
              "      <td>0.0</td>\n",
              "    </tr>\n",
              "    <tr>\n",
              "      <th>2</th>\n",
              "      <td>4.7</td>\n",
              "      <td>3.2</td>\n",
              "      <td>1.3</td>\n",
              "      <td>0.2</td>\n",
              "      <td>0.0</td>\n",
              "    </tr>\n",
              "    <tr>\n",
              "      <th>3</th>\n",
              "      <td>4.6</td>\n",
              "      <td>3.1</td>\n",
              "      <td>1.5</td>\n",
              "      <td>0.2</td>\n",
              "      <td>0.0</td>\n",
              "    </tr>\n",
              "    <tr>\n",
              "      <th>4</th>\n",
              "      <td>5.0</td>\n",
              "      <td>3.6</td>\n",
              "      <td>1.4</td>\n",
              "      <td>0.2</td>\n",
              "      <td>0.0</td>\n",
              "    </tr>\n",
              "  </tbody>\n",
              "</table>\n",
              "</div>"
            ],
            "text/plain": [
              "   sepal length (cm)  sepal width (cm)  ...  petal width (cm)  targets\n",
              "0                5.1               3.5  ...               0.2      0.0\n",
              "1                4.9               3.0  ...               0.2      0.0\n",
              "2                4.7               3.2  ...               0.2      0.0\n",
              "3                4.6               3.1  ...               0.2      0.0\n",
              "4                5.0               3.6  ...               0.2      0.0\n",
              "\n",
              "[5 rows x 5 columns]"
            ]
          },
          "metadata": {
            "tags": []
          },
          "execution_count": 47
        }
      ]
    },
    {
      "cell_type": "code",
      "metadata": {
        "id": "tXmNLnUoDKpb",
        "outputId": "00575ca7-618a-44e8-a82e-2c9575edc53b",
        "colab": {
          "base_uri": "https://localhost:8080/"
        }
      },
      "source": [
        "# Converts the data into an array\n",
        "X = df_iris.iloc[:, :-1].values\n",
        "y = df_iris.iloc[:, 4].values\n",
        "print(f'''X ARRAY (INPUT):\n",
        "{X}\n",
        "Y ARRAY (TARGET, OUTPUT):\n",
        "{y}''')"
      ],
      "execution_count": 48,
      "outputs": [
        {
          "output_type": "stream",
          "text": [
            "X ARRAY (INPUT):\n",
            "[[5.1 3.5 1.4 0.2]\n",
            " [4.9 3.  1.4 0.2]\n",
            " [4.7 3.2 1.3 0.2]\n",
            " [4.6 3.1 1.5 0.2]\n",
            " [5.  3.6 1.4 0.2]\n",
            " [5.4 3.9 1.7 0.4]\n",
            " [4.6 3.4 1.4 0.3]\n",
            " [5.  3.4 1.5 0.2]\n",
            " [4.4 2.9 1.4 0.2]\n",
            " [4.9 3.1 1.5 0.1]\n",
            " [5.4 3.7 1.5 0.2]\n",
            " [4.8 3.4 1.6 0.2]\n",
            " [4.8 3.  1.4 0.1]\n",
            " [4.3 3.  1.1 0.1]\n",
            " [5.8 4.  1.2 0.2]\n",
            " [5.7 4.4 1.5 0.4]\n",
            " [5.4 3.9 1.3 0.4]\n",
            " [5.1 3.5 1.4 0.3]\n",
            " [5.7 3.8 1.7 0.3]\n",
            " [5.1 3.8 1.5 0.3]\n",
            " [5.4 3.4 1.7 0.2]\n",
            " [5.1 3.7 1.5 0.4]\n",
            " [4.6 3.6 1.  0.2]\n",
            " [5.1 3.3 1.7 0.5]\n",
            " [4.8 3.4 1.9 0.2]\n",
            " [5.  3.  1.6 0.2]\n",
            " [5.  3.4 1.6 0.4]\n",
            " [5.2 3.5 1.5 0.2]\n",
            " [5.2 3.4 1.4 0.2]\n",
            " [4.7 3.2 1.6 0.2]\n",
            " [4.8 3.1 1.6 0.2]\n",
            " [5.4 3.4 1.5 0.4]\n",
            " [5.2 4.1 1.5 0.1]\n",
            " [5.5 4.2 1.4 0.2]\n",
            " [4.9 3.1 1.5 0.2]\n",
            " [5.  3.2 1.2 0.2]\n",
            " [5.5 3.5 1.3 0.2]\n",
            " [4.9 3.6 1.4 0.1]\n",
            " [4.4 3.  1.3 0.2]\n",
            " [5.1 3.4 1.5 0.2]\n",
            " [5.  3.5 1.3 0.3]\n",
            " [4.5 2.3 1.3 0.3]\n",
            " [4.4 3.2 1.3 0.2]\n",
            " [5.  3.5 1.6 0.6]\n",
            " [5.1 3.8 1.9 0.4]\n",
            " [4.8 3.  1.4 0.3]\n",
            " [5.1 3.8 1.6 0.2]\n",
            " [4.6 3.2 1.4 0.2]\n",
            " [5.3 3.7 1.5 0.2]\n",
            " [5.  3.3 1.4 0.2]\n",
            " [7.  3.2 4.7 1.4]\n",
            " [6.4 3.2 4.5 1.5]\n",
            " [6.9 3.1 4.9 1.5]\n",
            " [5.5 2.3 4.  1.3]\n",
            " [6.5 2.8 4.6 1.5]\n",
            " [5.7 2.8 4.5 1.3]\n",
            " [6.3 3.3 4.7 1.6]\n",
            " [4.9 2.4 3.3 1. ]\n",
            " [6.6 2.9 4.6 1.3]\n",
            " [5.2 2.7 3.9 1.4]\n",
            " [5.  2.  3.5 1. ]\n",
            " [5.9 3.  4.2 1.5]\n",
            " [6.  2.2 4.  1. ]\n",
            " [6.1 2.9 4.7 1.4]\n",
            " [5.6 2.9 3.6 1.3]\n",
            " [6.7 3.1 4.4 1.4]\n",
            " [5.6 3.  4.5 1.5]\n",
            " [5.8 2.7 4.1 1. ]\n",
            " [6.2 2.2 4.5 1.5]\n",
            " [5.6 2.5 3.9 1.1]\n",
            " [5.9 3.2 4.8 1.8]\n",
            " [6.1 2.8 4.  1.3]\n",
            " [6.3 2.5 4.9 1.5]\n",
            " [6.1 2.8 4.7 1.2]\n",
            " [6.4 2.9 4.3 1.3]\n",
            " [6.6 3.  4.4 1.4]\n",
            " [6.8 2.8 4.8 1.4]\n",
            " [6.7 3.  5.  1.7]\n",
            " [6.  2.9 4.5 1.5]\n",
            " [5.7 2.6 3.5 1. ]\n",
            " [5.5 2.4 3.8 1.1]\n",
            " [5.5 2.4 3.7 1. ]\n",
            " [5.8 2.7 3.9 1.2]\n",
            " [6.  2.7 5.1 1.6]\n",
            " [5.4 3.  4.5 1.5]\n",
            " [6.  3.4 4.5 1.6]\n",
            " [6.7 3.1 4.7 1.5]\n",
            " [6.3 2.3 4.4 1.3]\n",
            " [5.6 3.  4.1 1.3]\n",
            " [5.5 2.5 4.  1.3]\n",
            " [5.5 2.6 4.4 1.2]\n",
            " [6.1 3.  4.6 1.4]\n",
            " [5.8 2.6 4.  1.2]\n",
            " [5.  2.3 3.3 1. ]\n",
            " [5.6 2.7 4.2 1.3]\n",
            " [5.7 3.  4.2 1.2]\n",
            " [5.7 2.9 4.2 1.3]\n",
            " [6.2 2.9 4.3 1.3]\n",
            " [5.1 2.5 3.  1.1]\n",
            " [5.7 2.8 4.1 1.3]\n",
            " [6.3 3.3 6.  2.5]\n",
            " [5.8 2.7 5.1 1.9]\n",
            " [7.1 3.  5.9 2.1]\n",
            " [6.3 2.9 5.6 1.8]\n",
            " [6.5 3.  5.8 2.2]\n",
            " [7.6 3.  6.6 2.1]\n",
            " [4.9 2.5 4.5 1.7]\n",
            " [7.3 2.9 6.3 1.8]\n",
            " [6.7 2.5 5.8 1.8]\n",
            " [7.2 3.6 6.1 2.5]\n",
            " [6.5 3.2 5.1 2. ]\n",
            " [6.4 2.7 5.3 1.9]\n",
            " [6.8 3.  5.5 2.1]\n",
            " [5.7 2.5 5.  2. ]\n",
            " [5.8 2.8 5.1 2.4]\n",
            " [6.4 3.2 5.3 2.3]\n",
            " [6.5 3.  5.5 1.8]\n",
            " [7.7 3.8 6.7 2.2]\n",
            " [7.7 2.6 6.9 2.3]\n",
            " [6.  2.2 5.  1.5]\n",
            " [6.9 3.2 5.7 2.3]\n",
            " [5.6 2.8 4.9 2. ]\n",
            " [7.7 2.8 6.7 2. ]\n",
            " [6.3 2.7 4.9 1.8]\n",
            " [6.7 3.3 5.7 2.1]\n",
            " [7.2 3.2 6.  1.8]\n",
            " [6.2 2.8 4.8 1.8]\n",
            " [6.1 3.  4.9 1.8]\n",
            " [6.4 2.8 5.6 2.1]\n",
            " [7.2 3.  5.8 1.6]\n",
            " [7.4 2.8 6.1 1.9]\n",
            " [7.9 3.8 6.4 2. ]\n",
            " [6.4 2.8 5.6 2.2]\n",
            " [6.3 2.8 5.1 1.5]\n",
            " [6.1 2.6 5.6 1.4]\n",
            " [7.7 3.  6.1 2.3]\n",
            " [6.3 3.4 5.6 2.4]\n",
            " [6.4 3.1 5.5 1.8]\n",
            " [6.  3.  4.8 1.8]\n",
            " [6.9 3.1 5.4 2.1]\n",
            " [6.7 3.1 5.6 2.4]\n",
            " [6.9 3.1 5.1 2.3]\n",
            " [5.8 2.7 5.1 1.9]\n",
            " [6.8 3.2 5.9 2.3]\n",
            " [6.7 3.3 5.7 2.5]\n",
            " [6.7 3.  5.2 2.3]\n",
            " [6.3 2.5 5.  1.9]\n",
            " [6.5 3.  5.2 2. ]\n",
            " [6.2 3.4 5.4 2.3]\n",
            " [5.9 3.  5.1 1.8]]\n",
            "Y ARRAY (TARGET, OUTPUT):\n",
            "[0. 0. 0. 0. 0. 0. 0. 0. 0. 0. 0. 0. 0. 0. 0. 0. 0. 0. 0. 0. 0. 0. 0. 0.\n",
            " 0. 0. 0. 0. 0. 0. 0. 0. 0. 0. 0. 0. 0. 0. 0. 0. 0. 0. 0. 0. 0. 0. 0. 0.\n",
            " 0. 0. 1. 1. 1. 1. 1. 1. 1. 1. 1. 1. 1. 1. 1. 1. 1. 1. 1. 1. 1. 1. 1. 1.\n",
            " 1. 1. 1. 1. 1. 1. 1. 1. 1. 1. 1. 1. 1. 1. 1. 1. 1. 1. 1. 1. 1. 1. 1. 1.\n",
            " 1. 1. 1. 1. 2. 2. 2. 2. 2. 2. 2. 2. 2. 2. 2. 2. 2. 2. 2. 2. 2. 2. 2. 2.\n",
            " 2. 2. 2. 2. 2. 2. 2. 2. 2. 2. 2. 2. 2. 2. 2. 2. 2. 2. 2. 2. 2. 2. 2. 2.\n",
            " 2. 2. 2. 2. 2. 2.]\n"
          ],
          "name": "stdout"
        }
      ]
    },
    {
      "cell_type": "code",
      "metadata": {
        "id": "o_TWT0xtDOLi"
      },
      "source": [
        "# Divides the data into train and test\n",
        "\n",
        " # Function that divides the dataset\n",
        "from sklearn.model_selection import train_test_split \n",
        "# Divides 20% of the data for testing\n",
        "X_train, X_test, y_train, y_test = train_test_split(X, y, test_size=0.20)"
      ],
      "execution_count": 49,
      "outputs": []
    },
    {
      "cell_type": "markdown",
      "metadata": {
        "id": "MtpBZHn7e040"
      },
      "source": [
        "# **MLP**"
      ]
    },
    {
      "cell_type": "code",
      "metadata": {
        "id": "LTmXXaRPe7dE"
      },
      "source": [
        "# Imports the library\n",
        "from sklearn.neural_network import MLPClassifier"
      ],
      "execution_count": 50,
      "outputs": []
    },
    {
      "cell_type": "code",
      "metadata": {
        "id": "LPj5mO7yfrWi",
        "outputId": "086ccf5e-acb6-4e2d-a29f-cdc7f3d264cc",
        "colab": {
          "base_uri": "https://localhost:8080/"
        }
      },
      "source": [
        "# Setups the neural network\n",
        "clf = MLPClassifier(solver='lbfgs', hidden_layer_sizes=(5, 5), random_state=1)\n",
        "clf.fit(X_train, y_train)"
      ],
      "execution_count": 51,
      "outputs": [
        {
          "output_type": "execute_result",
          "data": {
            "text/plain": [
              "MLPClassifier(activation='relu', alpha=0.0001, batch_size='auto', beta_1=0.9,\n",
              "              beta_2=0.999, early_stopping=False, epsilon=1e-08,\n",
              "              hidden_layer_sizes=(5, 5), learning_rate='constant',\n",
              "              learning_rate_init=0.001, max_fun=15000, max_iter=200,\n",
              "              momentum=0.9, n_iter_no_change=10, nesterovs_momentum=True,\n",
              "              power_t=0.5, random_state=1, shuffle=True, solver='lbfgs',\n",
              "              tol=0.0001, validation_fraction=0.1, verbose=False,\n",
              "              warm_start=False)"
            ]
          },
          "metadata": {
            "tags": []
          },
          "execution_count": 51
        }
      ]
    },
    {
      "cell_type": "code",
      "metadata": {
        "id": "ftk-LRsggZP5",
        "outputId": "ed901fe3-fe3d-49f0-852b-13cf7aea37e5",
        "colab": {
          "base_uri": "https://localhost:8080/"
        }
      },
      "source": [
        "y_pred = clf.predict(X_test)\n",
        "y_pred"
      ],
      "execution_count": 52,
      "outputs": [
        {
          "output_type": "execute_result",
          "data": {
            "text/plain": [
              "array([2., 1., 2., 2., 0., 2., 1., 0., 0., 1., 2., 0., 0., 1., 2., 2., 0.,\n",
              "       1., 1., 1., 2., 1., 1., 0., 1., 1., 0., 0., 2., 0.])"
            ]
          },
          "metadata": {
            "tags": []
          },
          "execution_count": 52
        }
      ]
    },
    {
      "cell_type": "code",
      "metadata": {
        "id": "C4yjZreRh_aC",
        "outputId": "0552eb35-2299-4a7b-afca-5439800f6a16",
        "colab": {
          "base_uri": "https://localhost:8080/",
          "height": 279
        }
      },
      "source": [
        "from mlxtend.plotting import plot_confusion_matrix\n",
        "from sklearn.metrics import confusion_matrix\n",
        "\n",
        "# Evaluating the model\n",
        "confusion_matrix = confusion_matrix(y_test, y_pred)\n",
        "fig, ax = plot_confusion_matrix(confusion_matrix)\n",
        "plt.show()"
      ],
      "execution_count": 53,
      "outputs": [
        {
          "output_type": "display_data",
          "data": {
            "image/png": "[encoded data removed]",
            "text/plain": [
              "<Figure size 432x288 with 1 Axes>"
            ]
          },
          "metadata": {
            "tags": [],
            "needs_background": "light"
          }
        }
      ]
    },
    {
      "cell_type": "markdown",
      "metadata": {
        "id": "V8Oklm-HsDb0"
      },
      "source": [
        "# **TENSORFLOW**"
      ]
    },
    {
      "cell_type": "code",
      "metadata": {
        "id": "mt_271cesKdJ"
      },
      "source": [
        "# Importing layers to be used\n",
        "from tensorflow.keras.layers import Input, Dense, Dropout, Activation\n",
        "from tensorflow.keras.models import Model  # Imports the model to be used\n",
        "import seaborn as sns  # Plotting"
      ],
      "execution_count": 65,
      "outputs": []
    },
    {
      "cell_type": "code",
      "metadata": {
        "id": "fbtoBLyGsuy7",
        "outputId": "70bbd83b-967b-4a7c-9fcb-00464a3eaab0",
        "colab": {
          "base_uri": "https://localhost:8080/",
          "height": 204
        }
      },
      "source": [
        "dataset = sns.load_dataset('iris')\n",
        "dataset.head()"
      ],
      "execution_count": 61,
      "outputs": [
        {
          "output_type": "execute_result",
          "data": {
            "text/html": [
              "<div>\n",
              "<style scoped>\n",
              "    .dataframe tbody tr th:only-of-type {\n",
              "        vertical-align: middle;\n",
              "    }\n",
              "\n",
              "    .dataframe tbody tr th {\n",
              "        vertical-align: top;\n",
              "    }\n",
              "\n",
              "    .dataframe thead th {\n",
              "        text-align: right;\n",
              "    }\n",
              "</style>\n",
              "<table border=\"1\" class=\"dataframe\">\n",
              "  <thead>\n",
              "    <tr style=\"text-align: right;\">\n",
              "      <th></th>\n",
              "      <th>sepal_length</th>\n",
              "      <th>sepal_width</th>\n",
              "      <th>petal_length</th>\n",
              "      <th>petal_width</th>\n",
              "      <th>species</th>\n",
              "    </tr>\n",
              "  </thead>\n",
              "  <tbody>\n",
              "    <tr>\n",
              "      <th>0</th>\n",
              "      <td>5.1</td>\n",
              "      <td>3.5</td>\n",
              "      <td>1.4</td>\n",
              "      <td>0.2</td>\n",
              "      <td>setosa</td>\n",
              "    </tr>\n",
              "    <tr>\n",
              "      <th>1</th>\n",
              "      <td>4.9</td>\n",
              "      <td>3.0</td>\n",
              "      <td>1.4</td>\n",
              "      <td>0.2</td>\n",
              "      <td>setosa</td>\n",
              "    </tr>\n",
              "    <tr>\n",
              "      <th>2</th>\n",
              "      <td>4.7</td>\n",
              "      <td>3.2</td>\n",
              "      <td>1.3</td>\n",
              "      <td>0.2</td>\n",
              "      <td>setosa</td>\n",
              "    </tr>\n",
              "    <tr>\n",
              "      <th>3</th>\n",
              "      <td>4.6</td>\n",
              "      <td>3.1</td>\n",
              "      <td>1.5</td>\n",
              "      <td>0.2</td>\n",
              "      <td>setosa</td>\n",
              "    </tr>\n",
              "    <tr>\n",
              "      <th>4</th>\n",
              "      <td>5.0</td>\n",
              "      <td>3.6</td>\n",
              "      <td>1.4</td>\n",
              "      <td>0.2</td>\n",
              "      <td>setosa</td>\n",
              "    </tr>\n",
              "  </tbody>\n",
              "</table>\n",
              "</div>"
            ],
            "text/plain": [
              "   sepal_length  sepal_width  petal_length  petal_width species\n",
              "0           5.1          3.5           1.4          0.2  setosa\n",
              "1           4.9          3.0           1.4          0.2  setosa\n",
              "2           4.7          3.2           1.3          0.2  setosa\n",
              "3           4.6          3.1           1.5          0.2  setosa\n",
              "4           5.0          3.6           1.4          0.2  setosa"
            ]
          },
          "metadata": {
            "tags": []
          },
          "execution_count": 61
        }
      ]
    },
    {
      "cell_type": "code",
      "metadata": {
        "id": "RAKZ3wTLvd_M",
        "outputId": "653c0ed4-1f55-4385-a5a6-0476fe100f89",
        "colab": {
          "base_uri": "https://localhost:8080/"
        }
      },
      "source": [
        "import pandas as pd\n",
        "\n",
        "# Divides into input and output respectively\n",
        "X = dataset.drop(['species'], axis=1)\n",
        "y = pd.get_dummies(dataset.species, prefix='output')\n",
        "\n",
        "print(f'''\n",
        "x = input:\n",
        "{X}\n",
        "y = output:\n",
        "{y}\n",
        "''')"
      ],
      "execution_count": 94,
      "outputs": [
        {
          "output_type": "stream",
          "text": [
            "\n",
            "x = input:\n",
            "     sepal_length  sepal_width  petal_length  petal_width\n",
            "0             5.1          3.5           1.4          0.2\n",
            "1             4.9          3.0           1.4          0.2\n",
            "2             4.7          3.2           1.3          0.2\n",
            "3             4.6          3.1           1.5          0.2\n",
            "4             5.0          3.6           1.4          0.2\n",
            "..            ...          ...           ...          ...\n",
            "145           6.7          3.0           5.2          2.3\n",
            "146           6.3          2.5           5.0          1.9\n",
            "147           6.5          3.0           5.2          2.0\n",
            "148           6.2          3.4           5.4          2.3\n",
            "149           5.9          3.0           5.1          1.8\n",
            "\n",
            "[150 rows x 4 columns]\n",
            "y = output:\n",
            "     output_setosa  output_versicolor  output_virginica\n",
            "0                1                  0                 0\n",
            "1                1                  0                 0\n",
            "2                1                  0                 0\n",
            "3                1                  0                 0\n",
            "4                1                  0                 0\n",
            "..             ...                ...               ...\n",
            "145              0                  0                 1\n",
            "146              0                  0                 1\n",
            "147              0                  0                 1\n",
            "148              0                  0                 1\n",
            "149              0                  0                 1\n",
            "\n",
            "[150 rows x 3 columns]\n",
            "\n"
          ],
          "name": "stdout"
        }
      ]
    },
    {
      "cell_type": "code",
      "metadata": {
        "id": "6KWfqH6gwz3t"
      },
      "source": [
        "# Divides the data into training and testing\n",
        "from sklearn.model_selection import train_test_split\n",
        "\n",
        "X_train, X_test, y_train, y_test = train_test_split    (\n",
        "    X, y,\n",
        "    test_size=0.20, random_state=39\n",
        "    )"
      ],
      "execution_count": 86,
      "outputs": []
    },
    {
      "cell_type": "code",
      "metadata": {
        "id": "NKutTnVQ06SQ",
        "outputId": "7d409bbd-7d49-43fa-e666-2614545fb83d",
        "colab": {
          "base_uri": "https://localhost:8080/"
        }
      },
      "source": [
        "# Normalizes the data\n",
        "from sklearn.preprocessing import StandardScaler\n",
        "\n",
        "sc = StandardScaler()\n",
        "X_train = sc.fit_transform(X_train)\n",
        "X_test = sc.fit_transform(X_test)\n",
        "\n",
        "print(f'''\n",
        "X_train:\n",
        "{X_train}\n",
        "\n",
        "{\"-\" * 50}\n",
        "{\"-\" * 50}\n",
        "\n",
        "X_test:\n",
        "{X_test}\n",
        "''')"
      ],
      "execution_count": 95,
      "outputs": [
        {
          "output_type": "stream",
          "text": [
            "\n",
            "X_train:\n",
            "[[ 0.29245405 -0.14671714  0.48370742  0.2590961 ]\n",
            " [-0.08626343  2.11046968 -1.45682972 -1.32182927]\n",
            " [ 1.68108481  1.20759495  1.33982675  1.70827769]\n",
            " [-0.46498091 -1.50102924  0.02711045 -0.13613524]\n",
            " [-0.46498091 -1.72674792  0.14125969  0.12735232]\n",
            " [-1.09617671  0.98187627 -1.22853124 -0.79485414]\n",
            " [ 2.31228061  1.65903232  1.68227448  1.31304635]\n",
            " [-0.84369839 -0.82387319  0.08418507  0.2590961 ]\n",
            " [-0.08626343 -0.82387319  0.76908053  0.91781501]\n",
            " [-1.09617671 -1.72674792 -0.25826266 -0.26787902]\n",
            " [-0.96993755  1.65903232 -1.05730737 -1.05834171]\n",
            " [-0.59122007  1.884751   -1.17145662 -1.05834171]\n",
            " [ 1.04988901  0.5304389   1.11152826  1.18130257]\n",
            " [-0.96993755 -1.27531056 -0.42948653 -0.13613524]\n",
            " [ 1.42860649  0.30472022  0.54078204  0.2590961 ]\n",
            " [-0.84369839  0.98187627 -1.28560586 -1.32182927]\n",
            " [ 1.68108481 -0.14671714  1.16860288  0.52258366]\n",
            " [ 0.16621489 -0.37243583  0.4266328   0.39083988]\n",
            " [ 2.31228061 -1.04959187  1.79642373  1.44479013]\n",
            " [ 0.16621489 -0.82387319  0.76908053  0.52258366]\n",
            " [ 0.16621489  0.75615759  0.4266328   0.52258366]\n",
            " [-0.96993755  1.65903232 -1.22853124 -1.32182927]\n",
            " [-0.59122007  0.75615759 -1.17145662 -1.32182927]\n",
            " [ 2.31228061 -0.59815451  1.68227448  1.04955879]\n",
            " [-1.09617671  0.75615759 -1.28560586 -1.32182927]\n",
            " [-0.21250259 -0.37243583  0.25540893  0.12735232]\n",
            " [ 0.79741069 -0.14671714  0.99737902  0.78607123]\n",
            " [-0.84369839  2.33618837 -1.28560586 -1.45357305]\n",
            " [-1.22241587  1.20759495 -1.34268048 -1.45357305]\n",
            " [-0.21250259 -1.04959187 -0.14411342 -0.26787902]\n",
            " [ 1.17612817 -0.14671714  0.99737902  1.18130257]\n",
            " [-1.09617671  1.20759495 -1.34268048 -1.32182927]\n",
            " [-1.47489419  0.30472022 -1.3997551  -1.32182927]\n",
            " [-0.71745923  1.43331363 -1.28560586 -1.32182927]\n",
            " [ 0.03997573 -0.14671714  0.76908053  0.78607123]\n",
            " [ 1.04988901  0.07900154  0.36955818  0.2590961 ]\n",
            " [ 0.29245405 -0.14671714  0.65493129  0.78607123]\n",
            " [ 0.67117153  0.30472022  0.4266328   0.39083988]\n",
            " [-0.33874175 -0.14671714  0.19833431  0.12735232]\n",
            " [ 0.16621489 -1.95246661  0.71200591  0.39083988]\n",
            " [-0.21250259  3.01334441 -1.28560586 -1.05834171]\n",
            " [-0.08626343 -0.82387319  0.76908053  0.91781501]\n",
            " [ 1.04988901  0.07900154  0.54078204  0.39083988]\n",
            " [ 0.67117153 -0.82387319  0.88322977  0.91781501]\n",
            " [ 0.54493237 -0.37243583  1.05445364  0.78607123]\n",
            " [-1.60113335  0.30472022 -1.34268048 -1.32182927]\n",
            " [ 1.80732397 -0.37243583  1.45397599  0.78607123]\n",
            " [-0.21250259 -1.27531056  0.71200591  1.04955879]\n",
            " [-1.85361167  0.30472022 -1.3997551  -1.32182927]\n",
            " [ 0.54493237 -1.27531056  0.71200591  0.91781501]\n",
            " [-0.08626343 -0.82387319  0.19833431 -0.26787902]\n",
            " [ 0.16621489 -0.14671714  0.59785666  0.78607123]\n",
            " [-0.84369839  0.75615759 -1.34268048 -1.32182927]\n",
            " [-0.21250259  1.65903232 -1.17145662 -1.19008549]\n",
            " [-0.96993755  0.5304389  -1.17145662 -0.92659793]\n",
            " [-1.34865503  0.75615759 -1.22853124 -1.32182927]\n",
            " [-0.96993755  0.75615759 -1.28560586 -1.32182927]\n",
            " [ 1.04988901 -1.27531056  1.16860288  0.78607123]\n",
            " [ 0.67117153 -0.37243583  0.31248356  0.12735232]\n",
            " [ 0.41869321 -1.95246661  0.4266328   0.39083988]\n",
            " [-0.46498091 -1.50102924 -0.02996418 -0.26787902]\n",
            " [ 1.30236733  0.07900154  0.65493129  0.39083988]\n",
            " [ 0.54493237  0.75615759  1.05445364  1.57653391]\n",
            " [-0.21250259 -0.59815451  0.19833431  0.12735232]\n",
            " [ 0.54493237 -0.59815451  0.76908053  0.39083988]\n",
            " [-0.59122007  1.43331363 -1.28560586 -1.32182927]\n",
            " [-0.96993755  0.98187627 -1.34268048 -1.19008549]\n",
            " [ 1.55484565 -0.14671714  1.22567751  1.18130257]\n",
            " [ 1.04988901  0.5304389   1.11152826  1.70827769]\n",
            " [-1.22241587 -0.14671714 -1.34268048 -1.32182927]\n",
            " [-0.33874175 -0.14671714  0.4266328   0.39083988]\n",
            " [-0.59122007  1.884751   -1.3997551  -1.05834171]\n",
            " [ 0.41869321 -0.37243583  0.31248356  0.12735232]\n",
            " [ 0.29245405 -0.59815451  0.14125969  0.12735232]\n",
            " [-0.96993755  1.65903232 -1.28560586 -1.19008549]\n",
            " [-1.09617671  0.30472022 -1.45682972 -1.32182927]\n",
            " [-1.09617671 -0.14671714 -1.22853124 -1.32182927]\n",
            " [-0.96993755  0.98187627 -1.34268048 -1.32182927]\n",
            " [-0.21250259 -0.14671714  0.25540893 -0.00439146]\n",
            " [ 0.67117153  0.30472022  0.88322977  1.44479013]\n",
            " [ 0.79741069 -0.14671714  0.82615515  1.04955879]\n",
            " [ 1.17612817 -0.59815451  0.59785666  0.2590961 ]\n",
            " [ 2.31228061 -0.14671714  1.33982675  1.44479013]\n",
            " [-0.08626343 -0.59815451  0.76908053  1.57653391]\n",
            " [-1.09617671  0.98187627 -1.3997551  -1.19008549]\n",
            " [ 0.79741069 -0.14671714  1.16860288  1.31304635]\n",
            " [-0.46498091  2.56190705 -1.34268048 -1.32182927]\n",
            " [-1.60113335  0.07900154 -1.28560586 -1.32182927]\n",
            " [ 0.54493237  0.5304389   0.54078204  0.52258366]\n",
            " [ 1.04988901 -0.14671714  0.82615515  1.44479013]\n",
            " [ 1.30236733  0.30472022  1.11152826  1.44479013]\n",
            " [-0.59122007  0.75615759 -1.28560586 -1.05834171]\n",
            " [ 0.41869321 -0.59815451  0.59785666  0.78607123]\n",
            " [ 0.54493237  0.5304389   1.28275213  1.70827769]\n",
            " [ 0.29245405 -0.59815451  0.54078204 -0.00439146]\n",
            " [ 0.16621489 -1.95246661  0.14125969 -0.26787902]\n",
            " [ 1.04988901 -0.14671714  0.71200591  0.65432745]\n",
            " [-0.33874175 -0.82387319  0.25540893  0.12735232]\n",
            " [ 0.79741069 -0.59815451  0.48370742  0.39083988]\n",
            " [-1.34865503 -0.14671714 -1.34268048 -1.19008549]\n",
            " [ 0.54493237 -1.72674792  0.36955818  0.12735232]\n",
            " [ 0.54493237 -1.27531056  0.65493129  0.39083988]\n",
            " [-1.85361167 -0.37243583 -1.34268048 -1.32182927]\n",
            " [-0.33874175 -1.27531056  0.08418507 -0.13613524]\n",
            " [-0.33874175 -0.59815451  0.65493129  1.04955879]\n",
            " [-1.97985083 -0.14671714 -1.51390435 -1.45357305]\n",
            " [-0.59122007 -0.14671714  0.4266328   0.39083988]\n",
            " [-0.46498091  0.98187627 -1.3997551  -1.32182927]\n",
            " [-0.46498091 -1.27531056  0.14125969  0.12735232]\n",
            " [-1.34865503 -0.14671714 -1.34268048 -1.45357305]\n",
            " [-1.34865503  0.07900154 -1.22853124 -1.32182927]\n",
            " [ 1.30236733  0.07900154  0.76908053  1.44479013]\n",
            " [ 0.92364985 -0.14671714  0.36955818  0.2590961 ]\n",
            " [ 0.67117153 -0.59815451  1.05445364  1.31304635]\n",
            " [ 0.54493237 -0.82387319  0.65493129  0.78607123]\n",
            " [ 0.03997573  0.30472022  0.59785666  0.78607123]\n",
            " [-0.33874175 -0.37243583 -0.0870388   0.12735232]\n",
            " [-1.72737251 -1.72674792 -1.3997551  -1.19008549]\n",
            " [ 2.18604145 -0.14671714  1.62519986  1.18130257]\n",
            " [ 0.67117153  0.07900154  0.99737902  0.78607123]]\n",
            "\n",
            "--------------------------------------------------\n",
            "--------------------------------------------------\n",
            "\n",
            "X_test:\n",
            "[[-1.21664103  0.94134267 -1.33095965 -1.15915202]\n",
            " [-0.89740577  0.1849066  -1.27503698 -1.29037678]\n",
            " [ 0.485947    0.94134267  0.90594732  1.46534312]\n",
            " [ 0.06029999 -0.82367484  0.06710721  0.02187079]\n",
            " [-1.42946453 -0.06723876 -1.38688232 -1.29037678]\n",
            " [-0.79099402  0.94134267 -1.2191143  -1.02792726]\n",
            " [ 0.6987705  -0.57152948  1.01779267  1.20289361]\n",
            " [-1.11022928  0.43705195 -1.2191143  -1.29037678]\n",
            " [ 1.12441751  0.43705195  1.1855607   1.46534312]\n",
            " [ 2.29494678  1.9499241   1.46517407  1.07166885]\n",
            " [-0.04611176 -0.57152948  0.40264326  0.15309555]\n",
            " [-0.68458227  1.69777875 -1.27503698 -1.02792726]\n",
            " [ 1.23082926  0.1849066   0.90594732  1.20289361]\n",
            " [-0.89740577 -1.58011091 -0.26842884 -0.24057872]\n",
            " [ 0.91159401 -0.31938412  0.45856593  0.15309555]\n",
            " [ 0.16671174 -0.06723876  0.23487523  0.41554506]\n",
            " [ 1.55006452  0.43705195  1.24148337  0.80921934]\n",
            " [ 1.76288802 -0.57152948  1.29740605  0.94044409]\n",
            " [ 1.01800576  0.1849066   1.01779267  1.59656788]\n",
            " [-0.89740577  0.1849066  -1.27503698 -1.42160153]\n",
            " [ 0.80518226  0.43705195  0.7381793   1.07166885]\n",
            " [-1.21664103  1.44563339 -1.55465035 -1.29037678]\n",
            " [-1.00381753  0.94134267 -1.05134628 -1.29037678]\n",
            " [-0.79099402 -2.58869235 -0.15658349 -0.24057872]\n",
            " [ 0.06029999 -1.0758202   0.12302988  0.02187079]\n",
            " [-0.79099402  0.68919731 -1.33095965 -1.29037678]\n",
            " [-0.89740577 -1.32796555  0.40264326  0.67799458]\n",
            " [ 0.37953525 -0.31938412  0.5144886   0.28432031]\n",
            " [ 0.37953525 -1.0758202   1.01779267  0.28432031]\n",
            " [-0.25893526 -1.0758202   0.34672058  0.02187079]]\n",
            "\n"
          ],
          "name": "stdout"
        }
      ]
    },
    {
      "cell_type": "code",
      "metadata": {
        "id": "8If77oAj1-fm"
      },
      "source": [
        "X_input = Input(shape=(X_train.shape[1]))\n",
        "\n",
        "first_layer = Dense(100, activation='relu')(X_input)\n",
        "second_layer = Dense(50, activation='relu')(first_layer)\n",
        "third_layer = Dense(25, activation='relu')(second_layer)\n",
        "\n",
        "y_output = Dense(y_train.shape[1], activation='softmax')(third_layer)"
      ],
      "execution_count": 103,
      "outputs": []
    },
    {
      "cell_type": "code",
      "metadata": {
        "id": "FLfkBOAz5raO"
      },
      "source": [
        "ds_model = Model(inputs=X_input, outputs=y_output)  # Defines the model"
      ],
      "execution_count": 105,
      "outputs": []
    },
    {
      "cell_type": "code",
      "metadata": {
        "id": "8NjKt_uW7RW6",
        "outputId": "ca0934d5-50ea-4057-8f8a-5787df90350e",
        "colab": {
          "base_uri": "https://localhost:8080/"
        }
      },
      "source": [
        "ds_model.summary()"
      ],
      "execution_count": 107,
      "outputs": [
        {
          "output_type": "stream",
          "text": [
            "Model: \"functional_1\"\n",
            "_________________________________________________________________\n",
            "Layer (type)                 Output Shape              Param #   \n",
            "=================================================================\n",
            "input_4 (InputLayer)         [(None, 4)]               0         \n",
            "_________________________________________________________________\n",
            "dense_8 (Dense)              (None, 100)               500       \n",
            "_________________________________________________________________\n",
            "dense_9 (Dense)              (None, 50)                5050      \n",
            "_________________________________________________________________\n",
            "dense_10 (Dense)             (None, 25)                1275      \n",
            "_________________________________________________________________\n",
            "dense_11 (Dense)             (None, 3)                 78        \n",
            "=================================================================\n",
            "Total params: 6,903\n",
            "Trainable params: 6,903\n",
            "Non-trainable params: 0\n",
            "_________________________________________________________________\n"
          ],
          "name": "stdout"
        }
      ]
    },
    {
      "cell_type": "code",
      "metadata": {
        "id": "pnH6TlR-8AEh"
      },
      "source": [
        "ds_model.compile(loss='categorical_crossentropy',\n",
        "                 optimizer='adam', metrics=['acc'])"
      ],
      "execution_count": 113,
      "outputs": []
    },
    {
      "cell_type": "code",
      "metadata": {
        "id": "q9Fxn8_Y84up",
        "outputId": "979ccf2c-a5ff-44da-da9b-1cf5aee3a6cc",
        "colab": {
          "base_uri": "https://localhost:8080/"
        }
      },
      "source": [
        "history = ds_model.fit(X_train, y_train, batch_size=4, epochs=20,  \n",
        "                       verbose=1, validation_split=0.20)"
      ],
      "execution_count": 117,
      "outputs": [
        {
          "output_type": "stream",
          "text": [
            "Epoch 1/20\n",
            "24/24 [==============================] - 0s 3ms/step - loss: 0.0344 - acc: 0.9896 - val_loss: 0.1958 - val_acc: 0.9167\n",
            "Epoch 2/20\n",
            "24/24 [==============================] - 0s 2ms/step - loss: 0.0228 - acc: 0.9896 - val_loss: 0.1798 - val_acc: 0.9167\n",
            "Epoch 3/20\n",
            "24/24 [==============================] - 0s 2ms/step - loss: 0.0251 - acc: 0.9792 - val_loss: 0.2030 - val_acc: 0.9167\n",
            "Epoch 4/20\n",
            "24/24 [==============================] - 0s 2ms/step - loss: 0.0172 - acc: 0.9896 - val_loss: 0.2943 - val_acc: 0.9167\n",
            "Epoch 5/20\n",
            "24/24 [==============================] - 0s 2ms/step - loss: 0.0220 - acc: 0.9896 - val_loss: 0.1872 - val_acc: 0.9167\n",
            "Epoch 6/20\n",
            "24/24 [==============================] - 0s 2ms/step - loss: 0.0198 - acc: 1.0000 - val_loss: 0.2229 - val_acc: 0.9583\n",
            "Epoch 7/20\n",
            "24/24 [==============================] - 0s 2ms/step - loss: 0.0222 - acc: 0.9896 - val_loss: 0.2019 - val_acc: 0.9167\n",
            "Epoch 8/20\n",
            "24/24 [==============================] - 0s 2ms/step - loss: 0.0187 - acc: 0.9896 - val_loss: 0.1945 - val_acc: 0.9167\n",
            "Epoch 9/20\n",
            "24/24 [==============================] - 0s 2ms/step - loss: 0.0197 - acc: 1.0000 - val_loss: 0.2284 - val_acc: 0.9167\n",
            "Epoch 10/20\n",
            "24/24 [==============================] - 0s 2ms/step - loss: 0.0111 - acc: 1.0000 - val_loss: 0.2892 - val_acc: 0.9167\n",
            "Epoch 11/20\n",
            "24/24 [==============================] - 0s 2ms/step - loss: 0.0152 - acc: 0.9896 - val_loss: 0.2332 - val_acc: 0.9167\n",
            "Epoch 12/20\n",
            "24/24 [==============================] - 0s 2ms/step - loss: 0.0176 - acc: 1.0000 - val_loss: 0.3108 - val_acc: 0.9167\n",
            "Epoch 13/20\n",
            "24/24 [==============================] - 0s 2ms/step - loss: 0.0304 - acc: 0.9896 - val_loss: 0.1824 - val_acc: 0.9583\n",
            "Epoch 14/20\n",
            "24/24 [==============================] - 0s 2ms/step - loss: 0.0138 - acc: 1.0000 - val_loss: 0.2392 - val_acc: 0.9167\n",
            "Epoch 15/20\n",
            "24/24 [==============================] - 0s 2ms/step - loss: 0.0154 - acc: 0.9896 - val_loss: 0.1949 - val_acc: 0.9583\n",
            "Epoch 16/20\n",
            "24/24 [==============================] - 0s 2ms/step - loss: 0.0156 - acc: 1.0000 - val_loss: 0.3188 - val_acc: 0.9167\n",
            "Epoch 17/20\n",
            "24/24 [==============================] - 0s 2ms/step - loss: 0.0258 - acc: 0.9896 - val_loss: 0.1692 - val_acc: 0.9583\n",
            "Epoch 18/20\n",
            "24/24 [==============================] - 0s 2ms/step - loss: 0.0182 - acc: 1.0000 - val_loss: 0.2003 - val_acc: 0.9583\n",
            "Epoch 19/20\n",
            "24/24 [==============================] - 0s 2ms/step - loss: 0.0124 - acc: 1.0000 - val_loss: 0.1740 - val_acc: 0.9583\n",
            "Epoch 20/20\n",
            "24/24 [==============================] - 0s 2ms/step - loss: 0.0166 - acc: 0.9896 - val_loss: 0.2114 - val_acc: 0.9583\n"
          ],
          "name": "stdout"
        }
      ]
    },
    {
      "cell_type": "code",
      "metadata": {
        "id": "H4cEj5EG9LsF",
        "outputId": "63b7b931-6a90-4919-e4c6-509bb97c196c",
        "colab": {
          "base_uri": "https://localhost:8080/"
        }
      },
      "source": [
        "accuracy = ds_model.evaluate(X_test, y_test, verbose=1)\n",
        "print(f'ds_model accuracy: {accuracy[1]}')"
      ],
      "execution_count": 119,
      "outputs": [
        {
          "output_type": "stream",
          "text": [
            "1/1 [==============================] - 0s 1ms/step - loss: 0.1935 - acc: 0.9333\n",
            "ds_model accuracy: 0.9333333373069763\n"
          ],
          "name": "stdout"
        }
      ]
    }
  ]
}